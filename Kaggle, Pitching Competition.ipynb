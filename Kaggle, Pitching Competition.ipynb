{
 "cells": [
  {
   "cell_type": "code",
   "execution_count": 116,
   "id": "9dceb48b",
   "metadata": {},
   "outputs": [],
   "source": [
    "\n",
    "import matplotlib.pyplot as plt\n",
    "import pandas as pd\n",
    "import seaborn as sns\n",
    "import numpy as np\n",
    "from sklearn.model_selection import train_test_split\n",
    "from sklearn.impute import SimpleImputer\n",
    "from sklearn.pipeline import make_pipeline\n",
    "from sklearn.preprocessing import StandardScaler\n",
    "from sklearn.preprocessing import OneHotEncoder\n",
    "from sklearn.linear_model import LogisticRegression\n",
    "from sklearn.neighbors import KNeighborsClassifier\n",
    "from sklearn.metrics import classification_report\n",
    "from sklearn.ensemble import RandomForestRegressor\n",
    "from sklearn.linear_model import LogisticRegression\n",
    "from sklearn.neighbors import KNeighborsClassifier\n",
    "from sklearn.metrics import classification_report\n",
    "from sklearn.ensemble import RandomForestClassifier\n",
    "from sklearn.metrics import plot_confusion_matrix\n",
    "from sklearn.metrics import classification_report, confusion_matrix\n",
    "from sklearn.metrics import classification_report, ConfusionMatrixDisplay\n",
    "from sklearn.compose import make_column_transformer, make_column_selector\n",
    "from sklearn import set_config\n",
    "from xgboost import XGBClassifier\n",
    "from tensorflow.keras.models import Sequential\n",
    "from tensorflow.keras.layers import Dense\n",
    "from sklearn.metrics import plot_confusion_matrix\n",
    "from tensorflow.keras.callbacks import EarlyStopping\n",
    "from tensorflow.keras.models import Sequential\n",
    "from tensorflow.keras.layers import Dense, Dropout\n",
    "\n",
    "set_config(display='diagram')"
   ]
  },
  {
   "cell_type": "markdown",
   "id": "8b1e4fc9",
   "metadata": {},
   "source": [
    "# Diccionario \n",
    "\n",
    "pitch_type\n",
    "The type of pitch derived from Statcast.\n",
    "\n",
    "game_date\n",
    "Date of the Game.\n",
    "\n",
    "release_speed\n",
    "Pitch velocities from 2008-16 are via Pitch F/X, and adjusted to roughly out-of-hand release point. All velocities from 2017 and beyond are Statcast, which are reported out-of-hand.\n",
    "\n",
    "release_pos_x\n",
    "Horizontal Release Position of the ball measured in feet from the catcher's perspective.\n",
    "\n",
    "release_pos_z\n",
    "Vertical Release Position of the ball measured in feet from the catcher's perspective.\n",
    "\n",
    "player_name\n",
    "Player's name tied to the event of the search.\n",
    "\n",
    "batter\n",
    "MLB Player Id tied to the play event.\n",
    "\n",
    "pitcher\n",
    "MLB Player Id tied to the play event.\n",
    "\n",
    "events\n",
    "Event of the resulting Plate Appearance.\n",
    "\n",
    "description\n",
    "Description of the resulting pitch.\n",
    "\n",
    "spin_dir\n",
    "* Deprecated field from the old tracking system.\n",
    "\n",
    "spin_rate_deprecated\n",
    "* Deprecated field from the old tracking system. Replaced by release_spin\n",
    "\n",
    "break_angle_deprecated\n",
    "* Deprecated field from the old tracking system.\n",
    "\n",
    "break_length_deprecated\n",
    "* Deprecated field from the old tracking system.\n",
    "\n",
    "zone\n",
    "Zone location of the ball when it crosses the plate from the catcher's perspective.\n",
    "\n",
    "\n",
    "des\n",
    "Plate appearance description from game day.\n",
    "\n",
    "game_type\n",
    "Type of Game. E = Exhibition, S = Spring Training, R = Regular Season, F = Wild Card, D = Divisional Series, L = League Championship Series, W = World Series\n",
    "\n",
    "stand\n",
    "Side of the plate batter is standing.\n",
    "\n",
    "p_throws\n",
    "Hand pitcher throws with.\n",
    "\n",
    "home_team\n",
    "Abbreviation of home team.\n",
    "\n",
    "away_team\n",
    "Abbreviation of away team.\n",
    "\n",
    "type\n",
    "Short hand of pitch result. B = ball, S = strike, X = in play.\n",
    "\n",
    "hit_location\n",
    "Position of first fielder to touch the ball.\n",
    "\n",
    "bb_type\n",
    "Batted ball type, ground_ball, line_drive, fly_ball, popup.\n",
    "\n",
    "balls\n",
    "Pre-pitch number of balls in count.\n",
    "\n",
    "strikes\n",
    "Pre-pitch number of strikes in count.\n",
    "\n",
    "game_year\n",
    "Year game took place.\n",
    "\n",
    "pfx_x\n",
    "Horizontal movement in feet from the catcher's perspective.\n",
    "\n",
    "pfx_z\n",
    "Vertical movement in feet from the catcher's perpsective.\n",
    "\n",
    "plate_x\n",
    "Horizontal position of the ball when it crosses home plate from the catcher's perspective.\n",
    "\n",
    "plate_z\n",
    "Vertical position of the ball when it crosses home plate from the catcher's perspective.\n",
    "\n",
    "on_3b\n",
    "Pre-pitch MLB Player Id of Runner on 3B.\n",
    "\n",
    "on_2b\n",
    "Pre-pitch MLB Player Id of Runner on 2B.\n",
    "\n",
    "on_1b\n",
    "Pre-pitch MLB Player Id of Runner on 1B.\n",
    "\n",
    "outs_when_up\n",
    "Pre-pitch number of outs.\n",
    "\n",
    "inning\n",
    "Pre-pitch inning number.\n",
    "\n",
    "inning_topbot\n",
    "Pre-pitch top or bottom of inning.\n",
    "\n",
    "hc_x\n",
    "Hit coordinate X of batted ball.\n",
    "\n",
    "hc_y\n",
    "Hit coordinate Y of batted ball.\n",
    "\n",
    "tfs_deprecated\n",
    "* Deprecated field from old tracking system.\n",
    "\n",
    "tfs_zulu_deprecated\n",
    "* Deprecated field from old tracking system.\n",
    "\n",
    "fielder_2\n",
    "Pre-pitch MLB Player Id of Catcher.\n",
    "\n",
    "umpire\n",
    "* Deprecated field from old tracking system.\n",
    "\n",
    "sv_id\n",
    "Non-unique Id of play event per game.\n",
    "\n",
    "vx0\n",
    "The velocity of the pitch, in feet per second, in x-dimension, determined at y=50 feet.\n",
    "\n",
    "vy0\n",
    "The velocity of the pitch, in feet per second, in y-dimension, determined at y=50 feet.\n",
    "\n",
    "vy0\n",
    "The velocity of the pitch, in feet per second, in z-dimension, determined at y=50 feet.\n",
    "\n",
    "ax\n",
    "The acceleration of the pitch, in feet per second per second, in x-dimension, determined at y=50 feet.\n",
    "\n",
    "ay\n",
    "The acceleration of the pitch, in feet per second per second, in y-dimension, determined at y=50 feet.\n",
    "\n",
    "az\n",
    "The acceleration of the pitch, in feet per second per second, in z-dimension, determined at y=50 feet.\n",
    "\n",
    "sz_top\n",
    "Top of the batter's strike zone set by the operator when the ball is halfway to the plate.\n",
    "\n",
    "sz_bot\n",
    "Bottom of the batter's strike zone set by the operator when the ball is halfway to the plate.\n",
    "\n",
    "hit_distance\n",
    "Projected hit distance of the batted ball.\n",
    "\n",
    "launch_speed\n",
    "Exit velocity of the batted ball as tracked by Statcast. For the limited subset of batted balls not tracked directly, estimates are included based on the process described here.\n",
    "\n",
    "launch_angle\n",
    "Launch angle of the batted ball as tracked by Statcast. For the limited subset of batted balls not tracked directly, estimates are included based on the process described here.\n",
    "\n",
    "effective_speed\n",
    "Derived speed based on the the extension of the pitcher's release.\n",
    "\n",
    "release_spin\n",
    "Spin rate of pitch tracked by Statcast.\n",
    "\n",
    "release_extension\n",
    "Release extension of pitch in feet as tracked by Statcast.\n",
    "\n",
    "game_pk\n",
    "Unique Id for Game.\n",
    "\n",
    "pitcher\n",
    "MLB Player Id tied to the play event.\n",
    "\n",
    "fielder_2\n",
    "MLB Player Id for catcher.\n",
    "\n",
    "fielder_3\n",
    "MLB Player Id for 1B.\n",
    "\n",
    "fielder_4\n",
    "MLB Player Id for 2B.\n",
    "\n",
    "fielder_5\n",
    "MLB Player Id for 3B.\n",
    "\n",
    "fielder_6\n",
    "MLB Player Id for SS.\n",
    "\n",
    "fielder_7\n",
    "MLB Player Id for LF.\n",
    "\n",
    "fielder_8\n",
    "MLB Player Id for CF.\n",
    "\n",
    "fielder_9\n",
    "MLB Player Id for RF.\n",
    "\n",
    "release_pos_y\n",
    "Release position of pitch measured in feet from the catcher's perspective.\n",
    "\n",
    "estimated_ba_using_speedangle\n",
    "Estimated Batting Avg based on launch angle and exit velocity.\n",
    "\n",
    "estimated_woba_using_speedangle\n",
    "Estimated wOBA based on launch angle and exit velocity.\n",
    "\n",
    "woba_value\n",
    "wOBA value based on result of play.\n",
    "\n",
    "woba_denom\n",
    "wOBA denominator based on result of play.\n",
    "\n",
    "babip_value\n",
    "BABIP value based on result of play.\n",
    "\n",
    "iso_value\n",
    "ISO value based on result of play.\n",
    "\n",
    "launch_speed_angle\n",
    "Launch speed/angle zone based on launch angle and exit velocity.\n",
    "1: Weak\n",
    "2: Topped\n",
    "3: Under\n",
    "4: Flare/Burner\n",
    "5: Solid Contact\n",
    "6: Barrel\n",
    "\n",
    "\n",
    "at_bat_number\n",
    "Plate appearance number of the game.\n",
    "\n",
    "pitch_number\n",
    "Total pitch number of the plate appearance.\n",
    "\n",
    "pitch_name\n",
    "The name of the pitch derived from the Statcast Data.\n",
    "\n",
    "home_score\n",
    "Pre-pitch home score\n",
    "\n",
    "away_score\n",
    "Pre-pitch away score\n",
    "\n",
    "bat_score\n",
    "Pre-pitch bat team score\n",
    "\n",
    "fld_score\n",
    "Pre-pitch field team score\n",
    "\n",
    "post_home_score\n",
    "Post-pitch home score\n",
    "\n",
    "post_away_score\n",
    "Post-pitch away score\n",
    "\n",
    "post_bat_score\n",
    "Post-pitch bat team score\n",
    "\n",
    "if_fielding_alignment\n",
    "Infield fielding alignment at the time of the pitch.\n",
    "\n",
    "of_fielding_alignment\n",
    "Outfield fielding alignment at the time of the pitch.\n",
    "\n",
    "spin_axis\n",
    "The Spin Axis in the 2D X-Z plane in degrees from 0 to 360, such that 180 represents a pure backspin fastball and 0 degrees represents a pure topspin (12-6) curveball\n",
    "\n",
    "delta_home_win_exp\n",
    "The change in Win Expectancy before the Plate Appearance and after the Plate Appearance\n",
    "\n",
    "delta_run_exp\n",
    "The change in Run Expectancy before the Pitch and after the Pitch"
   ]
  },
  {
   "cell_type": "code",
   "execution_count": 117,
   "id": "8251fb94",
   "metadata": {},
   "outputs": [],
   "source": [
    "df = pd.read_csv('train.csv')"
   ]
  },
  {
   "cell_type": "code",
   "execution_count": 118,
   "id": "7e1b6f23",
   "metadata": {},
   "outputs": [
    {
     "data": {
      "text/html": [
       "<div>\n",
       "<style scoped>\n",
       "    .dataframe tbody tr th:only-of-type {\n",
       "        vertical-align: middle;\n",
       "    }\n",
       "\n",
       "    .dataframe tbody tr th {\n",
       "        vertical-align: top;\n",
       "    }\n",
       "\n",
       "    .dataframe thead th {\n",
       "        text-align: right;\n",
       "    }\n",
       "</style>\n",
       "<table border=\"1\" class=\"dataframe\">\n",
       "  <thead>\n",
       "    <tr style=\"text-align: right;\">\n",
       "      <th></th>\n",
       "      <th>uid</th>\n",
       "      <th>sz_top</th>\n",
       "      <th>sz_bot</th>\n",
       "      <th>pitch_type</th>\n",
       "      <th>release_pos_x</th>\n",
       "      <th>release_pos_y</th>\n",
       "      <th>release_pos_z</th>\n",
       "      <th>stand</th>\n",
       "      <th>p_throws</th>\n",
       "      <th>inning</th>\n",
       "      <th>...</th>\n",
       "      <th>on_2b</th>\n",
       "      <th>on_1b</th>\n",
       "      <th>release_speed</th>\n",
       "      <th>spin_axis</th>\n",
       "      <th>release_spin_rate</th>\n",
       "      <th>pfx_x</th>\n",
       "      <th>pfx_z</th>\n",
       "      <th>plate_x</th>\n",
       "      <th>plate_z</th>\n",
       "      <th>is_strike</th>\n",
       "    </tr>\n",
       "  </thead>\n",
       "  <tbody>\n",
       "    <tr>\n",
       "      <th>0</th>\n",
       "      <td>0</td>\n",
       "      <td>3.35</td>\n",
       "      <td>1.59</td>\n",
       "      <td>FF</td>\n",
       "      <td>-1.94</td>\n",
       "      <td>53.66</td>\n",
       "      <td>6.53</td>\n",
       "      <td>R</td>\n",
       "      <td>R</td>\n",
       "      <td>1</td>\n",
       "      <td>...</td>\n",
       "      <td>False</td>\n",
       "      <td>False</td>\n",
       "      <td>90.6</td>\n",
       "      <td>192</td>\n",
       "      <td>2192</td>\n",
       "      <td>-0.18</td>\n",
       "      <td>1.68</td>\n",
       "      <td>-0.01</td>\n",
       "      <td>1.97</td>\n",
       "      <td>1</td>\n",
       "    </tr>\n",
       "    <tr>\n",
       "      <th>1</th>\n",
       "      <td>1</td>\n",
       "      <td>3.53</td>\n",
       "      <td>1.70</td>\n",
       "      <td>FF</td>\n",
       "      <td>-1.90</td>\n",
       "      <td>53.57</td>\n",
       "      <td>6.39</td>\n",
       "      <td>R</td>\n",
       "      <td>R</td>\n",
       "      <td>1</td>\n",
       "      <td>...</td>\n",
       "      <td>False</td>\n",
       "      <td>False</td>\n",
       "      <td>92.6</td>\n",
       "      <td>196</td>\n",
       "      <td>2209</td>\n",
       "      <td>-0.20</td>\n",
       "      <td>1.67</td>\n",
       "      <td>0.66</td>\n",
       "      <td>2.62</td>\n",
       "      <td>1</td>\n",
       "    </tr>\n",
       "    <tr>\n",
       "      <th>2</th>\n",
       "      <td>2</td>\n",
       "      <td>3.67</td>\n",
       "      <td>1.73</td>\n",
       "      <td>FF</td>\n",
       "      <td>-1.87</td>\n",
       "      <td>53.51</td>\n",
       "      <td>6.40</td>\n",
       "      <td>R</td>\n",
       "      <td>R</td>\n",
       "      <td>1</td>\n",
       "      <td>...</td>\n",
       "      <td>False</td>\n",
       "      <td>False</td>\n",
       "      <td>91.6</td>\n",
       "      <td>187</td>\n",
       "      <td>2314</td>\n",
       "      <td>-0.16</td>\n",
       "      <td>1.61</td>\n",
       "      <td>0.55</td>\n",
       "      <td>2.28</td>\n",
       "      <td>1</td>\n",
       "    </tr>\n",
       "    <tr>\n",
       "      <th>3</th>\n",
       "      <td>3</td>\n",
       "      <td>3.65</td>\n",
       "      <td>1.72</td>\n",
       "      <td>FF</td>\n",
       "      <td>-1.97</td>\n",
       "      <td>53.65</td>\n",
       "      <td>6.36</td>\n",
       "      <td>R</td>\n",
       "      <td>R</td>\n",
       "      <td>1</td>\n",
       "      <td>...</td>\n",
       "      <td>False</td>\n",
       "      <td>False</td>\n",
       "      <td>93.5</td>\n",
       "      <td>194</td>\n",
       "      <td>2235</td>\n",
       "      <td>-0.36</td>\n",
       "      <td>1.79</td>\n",
       "      <td>-0.83</td>\n",
       "      <td>2.57</td>\n",
       "      <td>1</td>\n",
       "    </tr>\n",
       "    <tr>\n",
       "      <th>4</th>\n",
       "      <td>4</td>\n",
       "      <td>3.56</td>\n",
       "      <td>1.72</td>\n",
       "      <td>SL</td>\n",
       "      <td>-1.96</td>\n",
       "      <td>53.74</td>\n",
       "      <td>6.40</td>\n",
       "      <td>R</td>\n",
       "      <td>R</td>\n",
       "      <td>1</td>\n",
       "      <td>...</td>\n",
       "      <td>False</td>\n",
       "      <td>False</td>\n",
       "      <td>89.3</td>\n",
       "      <td>184</td>\n",
       "      <td>2314</td>\n",
       "      <td>0.32</td>\n",
       "      <td>1.25</td>\n",
       "      <td>1.18</td>\n",
       "      <td>1.41</td>\n",
       "      <td>0</td>\n",
       "    </tr>\n",
       "  </tbody>\n",
       "</table>\n",
       "<p>5 rows × 27 columns</p>\n",
       "</div>"
      ],
      "text/plain": [
       "   uid  sz_top  sz_bot pitch_type  release_pos_x  release_pos_y  \\\n",
       "0    0    3.35    1.59         FF          -1.94          53.66   \n",
       "1    1    3.53    1.70         FF          -1.90          53.57   \n",
       "2    2    3.67    1.73         FF          -1.87          53.51   \n",
       "3    3    3.65    1.72         FF          -1.97          53.65   \n",
       "4    4    3.56    1.72         SL          -1.96          53.74   \n",
       "\n",
       "   release_pos_z stand p_throws  inning  ...  on_2b  on_1b  release_speed  \\\n",
       "0           6.53     R        R       1  ...  False  False           90.6   \n",
       "1           6.39     R        R       1  ...  False  False           92.6   \n",
       "2           6.40     R        R       1  ...  False  False           91.6   \n",
       "3           6.36     R        R       1  ...  False  False           93.5   \n",
       "4           6.40     R        R       1  ...  False  False           89.3   \n",
       "\n",
       "   spin_axis release_spin_rate pfx_x  pfx_z  plate_x  plate_z  is_strike  \n",
       "0        192              2192 -0.18   1.68    -0.01     1.97          1  \n",
       "1        196              2209 -0.20   1.67     0.66     2.62          1  \n",
       "2        187              2314 -0.16   1.61     0.55     2.28          1  \n",
       "3        194              2235 -0.36   1.79    -0.83     2.57          1  \n",
       "4        184              2314  0.32   1.25     1.18     1.41          0  \n",
       "\n",
       "[5 rows x 27 columns]"
      ]
     },
     "execution_count": 118,
     "metadata": {},
     "output_type": "execute_result"
    }
   ],
   "source": [
    "df.head()"
   ]
  },
  {
   "cell_type": "code",
   "execution_count": 119,
   "id": "ed006de9",
   "metadata": {},
   "outputs": [
    {
     "name": "stdout",
     "output_type": "stream",
     "text": [
      "<class 'pandas.core.frame.DataFrame'>\n",
      "RangeIndex: 291271 entries, 0 to 291270\n",
      "Data columns (total 27 columns):\n",
      " #   Column                 Non-Null Count   Dtype  \n",
      "---  ------                 --------------   -----  \n",
      " 0   uid                    291271 non-null  int64  \n",
      " 1   sz_top                 291271 non-null  float64\n",
      " 2   sz_bot                 291271 non-null  float64\n",
      " 3   pitch_type             291271 non-null  object \n",
      " 4   release_pos_x          291271 non-null  float64\n",
      " 5   release_pos_y          291271 non-null  float64\n",
      " 6   release_pos_z          291271 non-null  float64\n",
      " 7   stand                  291271 non-null  object \n",
      " 8   p_throws               291271 non-null  object \n",
      " 9   inning                 291271 non-null  int64  \n",
      " 10  inning_topbot          291271 non-null  object \n",
      " 11  outs_when_up           291271 non-null  int64  \n",
      " 12  balls                  291271 non-null  int64  \n",
      " 13  strikes                291271 non-null  int64  \n",
      " 14  if_fielding_alignment  291271 non-null  object \n",
      " 15  of_fielding_alignment  291271 non-null  object \n",
      " 16  on_3b                  291271 non-null  bool   \n",
      " 17  on_2b                  291271 non-null  bool   \n",
      " 18  on_1b                  291271 non-null  bool   \n",
      " 19  release_speed          291271 non-null  float64\n",
      " 20  spin_axis              291271 non-null  int64  \n",
      " 21  release_spin_rate      291271 non-null  int64  \n",
      " 22  pfx_x                  291271 non-null  float64\n",
      " 23  pfx_z                  291271 non-null  float64\n",
      " 24  plate_x                291271 non-null  float64\n",
      " 25  plate_z                291271 non-null  float64\n",
      " 26  is_strike              291271 non-null  int64  \n",
      "dtypes: bool(3), float64(10), int64(8), object(6)\n",
      "memory usage: 54.2+ MB\n"
     ]
    }
   ],
   "source": [
    "df.info()"
   ]
  },
  {
   "cell_type": "code",
   "execution_count": 120,
   "id": "ce7abe91",
   "metadata": {},
   "outputs": [
    {
     "data": {
      "text/html": [
       "<div>\n",
       "<style scoped>\n",
       "    .dataframe tbody tr th:only-of-type {\n",
       "        vertical-align: middle;\n",
       "    }\n",
       "\n",
       "    .dataframe tbody tr th {\n",
       "        vertical-align: top;\n",
       "    }\n",
       "\n",
       "    .dataframe thead th {\n",
       "        text-align: right;\n",
       "    }\n",
       "</style>\n",
       "<table border=\"1\" class=\"dataframe\">\n",
       "  <thead>\n",
       "    <tr style=\"text-align: right;\">\n",
       "      <th></th>\n",
       "      <th>uid</th>\n",
       "      <th>sz_top</th>\n",
       "      <th>sz_bot</th>\n",
       "      <th>release_pos_x</th>\n",
       "      <th>release_pos_y</th>\n",
       "      <th>release_pos_z</th>\n",
       "      <th>inning</th>\n",
       "      <th>outs_when_up</th>\n",
       "      <th>balls</th>\n",
       "      <th>strikes</th>\n",
       "      <th>release_speed</th>\n",
       "      <th>spin_axis</th>\n",
       "      <th>release_spin_rate</th>\n",
       "      <th>pfx_x</th>\n",
       "      <th>pfx_z</th>\n",
       "      <th>plate_x</th>\n",
       "      <th>plate_z</th>\n",
       "      <th>is_strike</th>\n",
       "    </tr>\n",
       "  </thead>\n",
       "  <tbody>\n",
       "    <tr>\n",
       "      <th>count</th>\n",
       "      <td>291271.000000</td>\n",
       "      <td>291271.000000</td>\n",
       "      <td>291271.000000</td>\n",
       "      <td>291271.000000</td>\n",
       "      <td>291271.000000</td>\n",
       "      <td>291271.000000</td>\n",
       "      <td>291271.000000</td>\n",
       "      <td>291271.000000</td>\n",
       "      <td>291271.000000</td>\n",
       "      <td>291271.000000</td>\n",
       "      <td>291271.000000</td>\n",
       "      <td>291271.000000</td>\n",
       "      <td>291271.000000</td>\n",
       "      <td>291271.000000</td>\n",
       "      <td>291271.000000</td>\n",
       "      <td>291271.000000</td>\n",
       "      <td>291271.000000</td>\n",
       "      <td>291271.000000</td>\n",
       "    </tr>\n",
       "    <tr>\n",
       "      <th>mean</th>\n",
       "      <td>155639.324680</td>\n",
       "      <td>3.379379</td>\n",
       "      <td>1.598739</td>\n",
       "      <td>-0.813205</td>\n",
       "      <td>54.184560</td>\n",
       "      <td>5.800482</td>\n",
       "      <td>4.928568</td>\n",
       "      <td>0.969530</td>\n",
       "      <td>0.777338</td>\n",
       "      <td>0.761542</td>\n",
       "      <td>88.902657</td>\n",
       "      <td>174.987726</td>\n",
       "      <td>2248.413931</td>\n",
       "      <td>-0.109728</td>\n",
       "      <td>0.630969</td>\n",
       "      <td>0.059891</td>\n",
       "      <td>2.313389</td>\n",
       "      <td>0.332251</td>\n",
       "    </tr>\n",
       "    <tr>\n",
       "      <th>std</th>\n",
       "      <td>89840.848356</td>\n",
       "      <td>0.200857</td>\n",
       "      <td>0.119384</td>\n",
       "      <td>1.839077</td>\n",
       "      <td>0.446865</td>\n",
       "      <td>0.570652</td>\n",
       "      <td>2.595987</td>\n",
       "      <td>0.819591</td>\n",
       "      <td>0.933862</td>\n",
       "      <td>0.808403</td>\n",
       "      <td>6.192586</td>\n",
       "      <td>72.426845</td>\n",
       "      <td>322.155628</td>\n",
       "      <td>0.891675</td>\n",
       "      <td>0.752684</td>\n",
       "      <td>0.995193</td>\n",
       "      <td>1.099265</td>\n",
       "      <td>0.471021</td>\n",
       "    </tr>\n",
       "    <tr>\n",
       "      <th>min</th>\n",
       "      <td>0.000000</td>\n",
       "      <td>2.520000</td>\n",
       "      <td>0.770000</td>\n",
       "      <td>-4.820000</td>\n",
       "      <td>48.370000</td>\n",
       "      <td>0.860000</td>\n",
       "      <td>1.000000</td>\n",
       "      <td>0.000000</td>\n",
       "      <td>0.000000</td>\n",
       "      <td>0.000000</td>\n",
       "      <td>32.300000</td>\n",
       "      <td>0.000000</td>\n",
       "      <td>89.000000</td>\n",
       "      <td>-2.380000</td>\n",
       "      <td>-2.000000</td>\n",
       "      <td>-8.660000</td>\n",
       "      <td>-3.830000</td>\n",
       "      <td>0.000000</td>\n",
       "    </tr>\n",
       "    <tr>\n",
       "      <th>25%</th>\n",
       "      <td>77842.500000</td>\n",
       "      <td>3.250000</td>\n",
       "      <td>1.520000</td>\n",
       "      <td>-2.090000</td>\n",
       "      <td>53.890000</td>\n",
       "      <td>5.530000</td>\n",
       "      <td>3.000000</td>\n",
       "      <td>0.000000</td>\n",
       "      <td>0.000000</td>\n",
       "      <td>0.000000</td>\n",
       "      <td>84.600000</td>\n",
       "      <td>131.000000</td>\n",
       "      <td>2099.000000</td>\n",
       "      <td>-0.870000</td>\n",
       "      <td>0.170000</td>\n",
       "      <td>-0.700000</td>\n",
       "      <td>1.530000</td>\n",
       "      <td>0.000000</td>\n",
       "    </tr>\n",
       "    <tr>\n",
       "      <th>50%</th>\n",
       "      <td>155691.000000</td>\n",
       "      <td>3.380000</td>\n",
       "      <td>1.600000</td>\n",
       "      <td>-1.510000</td>\n",
       "      <td>54.170000</td>\n",
       "      <td>5.850000</td>\n",
       "      <td>5.000000</td>\n",
       "      <td>1.000000</td>\n",
       "      <td>0.000000</td>\n",
       "      <td>1.000000</td>\n",
       "      <td>90.100000</td>\n",
       "      <td>199.000000</td>\n",
       "      <td>2272.000000</td>\n",
       "      <td>-0.180000</td>\n",
       "      <td>0.720000</td>\n",
       "      <td>0.080000</td>\n",
       "      <td>2.250000</td>\n",
       "      <td>0.000000</td>\n",
       "    </tr>\n",
       "    <tr>\n",
       "      <th>75%</th>\n",
       "      <td>233418.500000</td>\n",
       "      <td>3.510000</td>\n",
       "      <td>1.680000</td>\n",
       "      <td>0.900000</td>\n",
       "      <td>54.480000</td>\n",
       "      <td>6.150000</td>\n",
       "      <td>7.000000</td>\n",
       "      <td>2.000000</td>\n",
       "      <td>1.000000</td>\n",
       "      <td>1.000000</td>\n",
       "      <td>93.800000</td>\n",
       "      <td>222.000000</td>\n",
       "      <td>2439.000000</td>\n",
       "      <td>0.610000</td>\n",
       "      <td>1.260000</td>\n",
       "      <td>0.820000</td>\n",
       "      <td>3.070000</td>\n",
       "      <td>1.000000</td>\n",
       "    </tr>\n",
       "    <tr>\n",
       "      <th>max</th>\n",
       "      <td>311270.000000</td>\n",
       "      <td>4.240000</td>\n",
       "      <td>2.200000</td>\n",
       "      <td>4.700000</td>\n",
       "      <td>57.530000</td>\n",
       "      <td>7.660000</td>\n",
       "      <td>15.000000</td>\n",
       "      <td>2.000000</td>\n",
       "      <td>4.000000</td>\n",
       "      <td>2.000000</td>\n",
       "      <td>104.000000</td>\n",
       "      <td>360.000000</td>\n",
       "      <td>3593.000000</td>\n",
       "      <td>2.570000</td>\n",
       "      <td>2.800000</td>\n",
       "      <td>4.610000</td>\n",
       "      <td>10.220000</td>\n",
       "      <td>1.000000</td>\n",
       "    </tr>\n",
       "  </tbody>\n",
       "</table>\n",
       "</div>"
      ],
      "text/plain": [
       "                 uid         sz_top         sz_bot  release_pos_x  \\\n",
       "count  291271.000000  291271.000000  291271.000000  291271.000000   \n",
       "mean   155639.324680       3.379379       1.598739      -0.813205   \n",
       "std     89840.848356       0.200857       0.119384       1.839077   \n",
       "min         0.000000       2.520000       0.770000      -4.820000   \n",
       "25%     77842.500000       3.250000       1.520000      -2.090000   \n",
       "50%    155691.000000       3.380000       1.600000      -1.510000   \n",
       "75%    233418.500000       3.510000       1.680000       0.900000   \n",
       "max    311270.000000       4.240000       2.200000       4.700000   \n",
       "\n",
       "       release_pos_y  release_pos_z         inning   outs_when_up  \\\n",
       "count  291271.000000  291271.000000  291271.000000  291271.000000   \n",
       "mean       54.184560       5.800482       4.928568       0.969530   \n",
       "std         0.446865       0.570652       2.595987       0.819591   \n",
       "min        48.370000       0.860000       1.000000       0.000000   \n",
       "25%        53.890000       5.530000       3.000000       0.000000   \n",
       "50%        54.170000       5.850000       5.000000       1.000000   \n",
       "75%        54.480000       6.150000       7.000000       2.000000   \n",
       "max        57.530000       7.660000      15.000000       2.000000   \n",
       "\n",
       "               balls        strikes  release_speed      spin_axis  \\\n",
       "count  291271.000000  291271.000000  291271.000000  291271.000000   \n",
       "mean        0.777338       0.761542      88.902657     174.987726   \n",
       "std         0.933862       0.808403       6.192586      72.426845   \n",
       "min         0.000000       0.000000      32.300000       0.000000   \n",
       "25%         0.000000       0.000000      84.600000     131.000000   \n",
       "50%         0.000000       1.000000      90.100000     199.000000   \n",
       "75%         1.000000       1.000000      93.800000     222.000000   \n",
       "max         4.000000       2.000000     104.000000     360.000000   \n",
       "\n",
       "       release_spin_rate          pfx_x          pfx_z        plate_x  \\\n",
       "count      291271.000000  291271.000000  291271.000000  291271.000000   \n",
       "mean         2248.413931      -0.109728       0.630969       0.059891   \n",
       "std           322.155628       0.891675       0.752684       0.995193   \n",
       "min            89.000000      -2.380000      -2.000000      -8.660000   \n",
       "25%          2099.000000      -0.870000       0.170000      -0.700000   \n",
       "50%          2272.000000      -0.180000       0.720000       0.080000   \n",
       "75%          2439.000000       0.610000       1.260000       0.820000   \n",
       "max          3593.000000       2.570000       2.800000       4.610000   \n",
       "\n",
       "             plate_z      is_strike  \n",
       "count  291271.000000  291271.000000  \n",
       "mean        2.313389       0.332251  \n",
       "std         1.099265       0.471021  \n",
       "min        -3.830000       0.000000  \n",
       "25%         1.530000       0.000000  \n",
       "50%         2.250000       0.000000  \n",
       "75%         3.070000       1.000000  \n",
       "max        10.220000       1.000000  "
      ]
     },
     "execution_count": 120,
     "metadata": {},
     "output_type": "execute_result"
    }
   ],
   "source": [
    "df.describe()"
   ]
  },
  {
   "cell_type": "markdown",
   "id": "e1d58ff5",
   "metadata": {},
   "source": [
    "# Exploratorio"
   ]
  },
  {
   "cell_type": "code",
   "execution_count": 121,
   "id": "59a8fe9a",
   "metadata": {
    "scrolled": false
   },
   "outputs": [
    {
     "name": "stdout",
     "output_type": "stream",
     "text": [
      "0    1\n",
      "1    1\n",
      "2    1\n",
      "3    1\n",
      "4    0\n",
      "Name: is_strike, dtype: int64\n"
     ]
    }
   ],
   "source": [
    "print(df['is_strike'].head())"
   ]
  },
  {
   "cell_type": "code",
   "execution_count": 122,
   "id": "6d170faf",
   "metadata": {},
   "outputs": [
    {
     "data": {
      "text/plain": [
       "0    0\n",
       "1    1\n",
       "2    0\n",
       "3    1\n",
       "4    2\n",
       "Name: strikes, dtype: int64"
      ]
     },
     "execution_count": 122,
     "metadata": {},
     "output_type": "execute_result"
    }
   ],
   "source": [
    "df['strikes'].head()"
   ]
  },
  {
   "cell_type": "code",
   "execution_count": 123,
   "id": "0b077fb2",
   "metadata": {},
   "outputs": [
    {
     "data": {
      "text/plain": [
       "0    138184\n",
       "1     84359\n",
       "2     68728\n",
       "Name: strikes, dtype: int64"
      ]
     },
     "execution_count": 123,
     "metadata": {},
     "output_type": "execute_result"
    }
   ],
   "source": [
    "df['strikes'].value_counts()"
   ]
  },
  {
   "cell_type": "code",
   "execution_count": 124,
   "id": "de99e1e5",
   "metadata": {},
   "outputs": [
    {
     "data": {
      "text/plain": [
       "0    194496\n",
       "1     96775\n",
       "Name: is_strike, dtype: int64"
      ]
     },
     "execution_count": 124,
     "metadata": {},
     "output_type": "execute_result"
    }
   ],
   "source": [
    "df['is_strike'].value_counts()"
   ]
  },
  {
   "cell_type": "code",
   "execution_count": 125,
   "id": "ecb74cb8",
   "metadata": {},
   "outputs": [
    {
     "data": {
      "text/plain": [
       "0    194496\n",
       "1     96775\n",
       "Name: is_strike, dtype: int64"
      ]
     },
     "execution_count": 125,
     "metadata": {},
     "output_type": "execute_result"
    }
   ],
   "source": [
    "df['is_strike'].value_counts()"
   ]
  },
  {
   "cell_type": "markdown",
   "id": "cb89515a",
   "metadata": {},
   "source": [
    "# Missing and Duplicated Values"
   ]
  },
  {
   "cell_type": "code",
   "execution_count": 126,
   "id": "b426f0c4",
   "metadata": {},
   "outputs": [
    {
     "name": "stdout",
     "output_type": "stream",
     "text": [
      "Total of duplicated values 0\n"
     ]
    }
   ],
   "source": [
    "# Check for duplicates\n",
    "print('Total of duplicated values',df.duplicated().sum())"
   ]
  },
  {
   "cell_type": "code",
   "execution_count": 127,
   "id": "ffdfca92",
   "metadata": {},
   "outputs": [
    {
     "name": "stdout",
     "output_type": "stream",
     "text": [
      "0 missing values\n"
     ]
    }
   ],
   "source": [
    "print(df.isna().sum().sum(), 'missing values')"
   ]
  },
  {
   "cell_type": "code",
   "execution_count": 128,
   "id": "982c62f1",
   "metadata": {},
   "outputs": [
    {
     "data": {
      "text/plain": [
       "Text(0.5, 1.0, 'Tipo de Picheo')"
      ]
     },
     "execution_count": 128,
     "metadata": {},
     "output_type": "execute_result"
    },
    {
     "data": {
      "text/plain": [
       "<Figure size 720x720 with 0 Axes>"
      ]
     },
     "metadata": {},
     "output_type": "display_data"
    },
    {
     "data": {
      "image/png": "[encoded data removed]",
      "text/plain": [
       "<Figure size 360x360 with 1 Axes>"
      ]
     },
     "metadata": {
      "needs_background": "light"
     },
     "output_type": "display_data"
    }
   ],
   "source": [
    "plt.figure(figsize=(10, 10))\n",
    "sns.catplot(data= df, y ='pitch_type', kind = \"count\", palette = \"pastel\", edgecolor = \".6\",order = df.pitch_type.value_counts().index)\n",
    "plt.title('Tipo de Picheo')"
   ]
  },
  {
   "cell_type": "code",
   "execution_count": 129,
   "id": "a73add23",
   "metadata": {},
   "outputs": [
    {
     "data": {
      "text/plain": [
       "Text(0.5, 1.0, 'Mano con la que lanza el pitcher con la relacion de strike')"
      ]
     },
     "execution_count": 129,
     "metadata": {},
     "output_type": "execute_result"
    },
    {
     "data": {
      "image/png": "[encoded data removed]",
      "text/plain": [
       "<Figure size 576x576 with 1 Axes>"
      ]
     },
     "metadata": {
      "needs_background": "light"
     },
     "output_type": "display_data"
    }
   ],
   "source": [
    "plt.figure(figsize=(8, 8))\n",
    "sns.countplot(x= 'p_throws',hue='is_strike' ,data=df)\n",
    "plt.title('Mano con la que lanza el pitcher con la relacion de strike')"
   ]
  },
  {
   "cell_type": "markdown",
   "id": "79bc51c3",
   "metadata": {},
   "source": [
    "# Correlacion "
   ]
  },
  {
   "cell_type": "code",
   "execution_count": 130,
   "id": "5be49822",
   "metadata": {},
   "outputs": [
    {
     "data": {
      "text/plain": [
       "<AxesSubplot:>"
      ]
     },
     "execution_count": 130,
     "metadata": {},
     "output_type": "execute_result"
    },
    {
     "data": {
      "image/png": "[encoded data removed]",
      "text/plain": [
       "<Figure size 432x288 with 1 Axes>"
      ]
     },
     "metadata": {
      "needs_background": "light"
     },
     "output_type": "display_data"
    }
   ],
   "source": [
    "df.corr()['is_strike'].drop('is_strike').sort_values().plot(kind='bar')\n"
   ]
  },
  {
   "cell_type": "code",
   "execution_count": 131,
   "id": "1cbcdb51",
   "metadata": {},
   "outputs": [
    {
     "data": {
      "text/plain": [
       "<AxesSubplot:>"
      ]
     },
     "execution_count": 131,
     "metadata": {},
     "output_type": "execute_result"
    },
    {
     "data": {
      "image/png": "[encoded data removed]",
      "text/plain": [
       "<Figure size 1440x1440 with 2 Axes>"
      ]
     },
     "metadata": {
      "needs_background": "light"
     },
     "output_type": "display_data"
    }
   ],
   "source": [
    "# y si queremos mirar todas las correlaciones?\n",
    "corr = df.corr()\n",
    "plt.figure(figsize=(20, 20))\n",
    "sns.heatmap(corr, vmax=.8, linewidths=0.01,\n",
    "            square=True,annot=True)"
   ]
  },
  {
   "cell_type": "markdown",
   "id": "cd2d0ff2",
   "metadata": {},
   "source": [
    "# Modelo"
   ]
  },
  {
   "cell_type": "code",
   "execution_count": 132,
   "id": "52d88c74",
   "metadata": {},
   "outputs": [],
   "source": [
    "# Save X data\n",
    "X = df.drop(['is_strike','strikes'],axis='columns')\n",
    "# Encode our target\n",
    "y = df['is_strike']"
   ]
  },
  {
   "cell_type": "code",
   "execution_count": 133,
   "id": "05291767",
   "metadata": {},
   "outputs": [],
   "source": [
    "# Train test split\n",
    "X_train, X_test, y_train, y_test = train_test_split(X, y, random_state=3)"
   ]
  },
  {
   "cell_type": "code",
   "execution_count": 134,
   "id": "eeaa43ae",
   "metadata": {},
   "outputs": [],
   "source": [
    "# Selectors\n",
    "cat_selector = make_column_selector(dtype_include='object')\n",
    "num_selector = make_column_selector(dtype_include='number')"
   ]
  },
  {
   "cell_type": "code",
   "execution_count": 135,
   "id": "502fe52a",
   "metadata": {},
   "outputs": [],
   "source": [
    "\n",
    "# Scaler\n",
    "scaler = StandardScaler()\n",
    "# One-hot encoder\n",
    "ohe = OneHotEncoder(handle_unknown='ignore', sparse=False)"
   ]
  },
  {
   "cell_type": "code",
   "execution_count": 136,
   "id": "a6389b2f",
   "metadata": {},
   "outputs": [
    {
     "data": {
      "text/html": [
       "<style>#sk-bd50ac66-b5c1-4b8c-8f8f-7a93b75bf8f8 {color: black;background-color: white;}#sk-bd50ac66-b5c1-4b8c-8f8f-7a93b75bf8f8 pre{padding: 0;}#sk-bd50ac66-b5c1-4b8c-8f8f-7a93b75bf8f8 div.sk-toggleable {background-color: white;}#sk-bd50ac66-b5c1-4b8c-8f8f-7a93b75bf8f8 label.sk-toggleable__label {cursor: pointer;display: block;width: 100%;margin-bottom: 0;padding: 0.3em;box-sizing: border-box;text-align: center;}#sk-bd50ac66-b5c1-4b8c-8f8f-7a93b75bf8f8 label.sk-toggleable__label-arrow:before {content: \"▸\";float: left;margin-right: 0.25em;color: #696969;}#sk-bd50ac66-b5c1-4b8c-8f8f-7a93b75bf8f8 label.sk-toggleable__label-arrow:hover:before {color: black;}#sk-bd50ac66-b5c1-4b8c-8f8f-7a93b75bf8f8 div.sk-estimator:hover label.sk-toggleable__label-arrow:before {color: black;}#sk-bd50ac66-b5c1-4b8c-8f8f-7a93b75bf8f8 div.sk-toggleable__content {max-height: 0;max-width: 0;overflow: hidden;text-align: left;background-color: #f0f8ff;}#sk-bd50ac66-b5c1-4b8c-8f8f-7a93b75bf8f8 div.sk-toggleable__content pre {margin: 0.2em;color: black;border-radius: 0.25em;background-color: #f0f8ff;}#sk-bd50ac66-b5c1-4b8c-8f8f-7a93b75bf8f8 input.sk-toggleable__control:checked~div.sk-toggleable__content {max-height: 200px;max-width: 100%;overflow: auto;}#sk-bd50ac66-b5c1-4b8c-8f8f-7a93b75bf8f8 input.sk-toggleable__control:checked~label.sk-toggleable__label-arrow:before {content: \"▾\";}#sk-bd50ac66-b5c1-4b8c-8f8f-7a93b75bf8f8 div.sk-estimator input.sk-toggleable__control:checked~label.sk-toggleable__label {background-color: #d4ebff;}#sk-bd50ac66-b5c1-4b8c-8f8f-7a93b75bf8f8 div.sk-label input.sk-toggleable__control:checked~label.sk-toggleable__label {background-color: #d4ebff;}#sk-bd50ac66-b5c1-4b8c-8f8f-7a93b75bf8f8 input.sk-hidden--visually {border: 0;clip: rect(1px 1px 1px 1px);clip: rect(1px, 1px, 1px, 1px);height: 1px;margin: -1px;overflow: hidden;padding: 0;position: absolute;width: 1px;}#sk-bd50ac66-b5c1-4b8c-8f8f-7a93b75bf8f8 div.sk-estimator {font-family: monospace;background-color: #f0f8ff;border: 1px dotted black;border-radius: 0.25em;box-sizing: border-box;margin-bottom: 0.5em;}#sk-bd50ac66-b5c1-4b8c-8f8f-7a93b75bf8f8 div.sk-estimator:hover {background-color: #d4ebff;}#sk-bd50ac66-b5c1-4b8c-8f8f-7a93b75bf8f8 div.sk-parallel-item::after {content: \"\";width: 100%;border-bottom: 1px solid gray;flex-grow: 1;}#sk-bd50ac66-b5c1-4b8c-8f8f-7a93b75bf8f8 div.sk-label:hover label.sk-toggleable__label {background-color: #d4ebff;}#sk-bd50ac66-b5c1-4b8c-8f8f-7a93b75bf8f8 div.sk-serial::before {content: \"\";position: absolute;border-left: 1px solid gray;box-sizing: border-box;top: 2em;bottom: 0;left: 50%;}#sk-bd50ac66-b5c1-4b8c-8f8f-7a93b75bf8f8 div.sk-serial {display: flex;flex-direction: column;align-items: center;background-color: white;padding-right: 0.2em;padding-left: 0.2em;}#sk-bd50ac66-b5c1-4b8c-8f8f-7a93b75bf8f8 div.sk-item {z-index: 1;}#sk-bd50ac66-b5c1-4b8c-8f8f-7a93b75bf8f8 div.sk-parallel {display: flex;align-items: stretch;justify-content: center;background-color: white;}#sk-bd50ac66-b5c1-4b8c-8f8f-7a93b75bf8f8 div.sk-parallel::before {content: \"\";position: absolute;border-left: 1px solid gray;box-sizing: border-box;top: 2em;bottom: 0;left: 50%;}#sk-bd50ac66-b5c1-4b8c-8f8f-7a93b75bf8f8 div.sk-parallel-item {display: flex;flex-direction: column;position: relative;background-color: white;}#sk-bd50ac66-b5c1-4b8c-8f8f-7a93b75bf8f8 div.sk-parallel-item:first-child::after {align-self: flex-end;width: 50%;}#sk-bd50ac66-b5c1-4b8c-8f8f-7a93b75bf8f8 div.sk-parallel-item:last-child::after {align-self: flex-start;width: 50%;}#sk-bd50ac66-b5c1-4b8c-8f8f-7a93b75bf8f8 div.sk-parallel-item:only-child::after {width: 0;}#sk-bd50ac66-b5c1-4b8c-8f8f-7a93b75bf8f8 div.sk-dashed-wrapped {border: 1px dashed gray;margin: 0 0.4em 0.5em 0.4em;box-sizing: border-box;padding-bottom: 0.4em;background-color: white;position: relative;}#sk-bd50ac66-b5c1-4b8c-8f8f-7a93b75bf8f8 div.sk-label label {font-family: monospace;font-weight: bold;background-color: white;display: inline-block;line-height: 1.2em;}#sk-bd50ac66-b5c1-4b8c-8f8f-7a93b75bf8f8 div.sk-label-container {position: relative;z-index: 2;text-align: center;}#sk-bd50ac66-b5c1-4b8c-8f8f-7a93b75bf8f8 div.sk-container {/* jupyter's `normalize.less` sets `[hidden] { display: none; }` but bootstrap.min.css set `[hidden] { display: none !important; }` so we also need the `!important` here to be able to override the default hidden behavior on the sphinx rendered scikit-learn.org. See: https://github.com/scikit-learn/scikit-learn/issues/21755 */display: inline-block !important;position: relative;}#sk-bd50ac66-b5c1-4b8c-8f8f-7a93b75bf8f8 div.sk-text-repr-fallback {display: none;}</style><div id=\"sk-bd50ac66-b5c1-4b8c-8f8f-7a93b75bf8f8\" class=\"sk-top-container\"><div class=\"sk-text-repr-fallback\"><pre>Pipeline(steps=[(&#x27;standardscaler&#x27;, StandardScaler())])</pre><b>Please rerun this cell to show the HTML repr or trust the notebook.</b></div><div class=\"sk-container\" hidden><div class=\"sk-item sk-dashed-wrapped\"><div class=\"sk-label-container\"><div class=\"sk-label sk-toggleable\"><input class=\"sk-toggleable__control sk-hidden--visually\" id=\"60ac1ee8-9fe0-4705-a43d-924b119e877e\" type=\"checkbox\" ><label for=\"60ac1ee8-9fe0-4705-a43d-924b119e877e\" class=\"sk-toggleable__label sk-toggleable__label-arrow\">Pipeline</label><div class=\"sk-toggleable__content\"><pre>Pipeline(steps=[(&#x27;standardscaler&#x27;, StandardScaler())])</pre></div></div></div><div class=\"sk-serial\"><div class=\"sk-item\"><div class=\"sk-estimator sk-toggleable\"><input class=\"sk-toggleable__control sk-hidden--visually\" id=\"5e971720-46f3-4525-b93d-da0f7ddb9249\" type=\"checkbox\" ><label for=\"5e971720-46f3-4525-b93d-da0f7ddb9249\" class=\"sk-toggleable__label sk-toggleable__label-arrow\">StandardScaler</label><div class=\"sk-toggleable__content\"><pre>StandardScaler()</pre></div></div></div></div></div></div></div>"
      ],
      "text/plain": [
       "Pipeline(steps=[('standardscaler', StandardScaler())])"
      ]
     },
     "execution_count": 136,
     "metadata": {},
     "output_type": "execute_result"
    }
   ],
   "source": [
    "# Numeric pipeline\n",
    "numeric_pipe = make_pipeline(scaler)\n",
    "numeric_pipe"
   ]
  },
  {
   "cell_type": "code",
   "execution_count": 137,
   "id": "8897bbb0",
   "metadata": {},
   "outputs": [
    {
     "data": {
      "text/html": [
       "<style>#sk-29694549-768c-4d29-aa0a-0270584e9f00 {color: black;background-color: white;}#sk-29694549-768c-4d29-aa0a-0270584e9f00 pre{padding: 0;}#sk-29694549-768c-4d29-aa0a-0270584e9f00 div.sk-toggleable {background-color: white;}#sk-29694549-768c-4d29-aa0a-0270584e9f00 label.sk-toggleable__label {cursor: pointer;display: block;width: 100%;margin-bottom: 0;padding: 0.3em;box-sizing: border-box;text-align: center;}#sk-29694549-768c-4d29-aa0a-0270584e9f00 label.sk-toggleable__label-arrow:before {content: \"▸\";float: left;margin-right: 0.25em;color: #696969;}#sk-29694549-768c-4d29-aa0a-0270584e9f00 label.sk-toggleable__label-arrow:hover:before {color: black;}#sk-29694549-768c-4d29-aa0a-0270584e9f00 div.sk-estimator:hover label.sk-toggleable__label-arrow:before {color: black;}#sk-29694549-768c-4d29-aa0a-0270584e9f00 div.sk-toggleable__content {max-height: 0;max-width: 0;overflow: hidden;text-align: left;background-color: #f0f8ff;}#sk-29694549-768c-4d29-aa0a-0270584e9f00 div.sk-toggleable__content pre {margin: 0.2em;color: black;border-radius: 0.25em;background-color: #f0f8ff;}#sk-29694549-768c-4d29-aa0a-0270584e9f00 input.sk-toggleable__control:checked~div.sk-toggleable__content {max-height: 200px;max-width: 100%;overflow: auto;}#sk-29694549-768c-4d29-aa0a-0270584e9f00 input.sk-toggleable__control:checked~label.sk-toggleable__label-arrow:before {content: \"▾\";}#sk-29694549-768c-4d29-aa0a-0270584e9f00 div.sk-estimator input.sk-toggleable__control:checked~label.sk-toggleable__label {background-color: #d4ebff;}#sk-29694549-768c-4d29-aa0a-0270584e9f00 div.sk-label input.sk-toggleable__control:checked~label.sk-toggleable__label {background-color: #d4ebff;}#sk-29694549-768c-4d29-aa0a-0270584e9f00 input.sk-hidden--visually {border: 0;clip: rect(1px 1px 1px 1px);clip: rect(1px, 1px, 1px, 1px);height: 1px;margin: -1px;overflow: hidden;padding: 0;position: absolute;width: 1px;}#sk-29694549-768c-4d29-aa0a-0270584e9f00 div.sk-estimator {font-family: monospace;background-color: #f0f8ff;border: 1px dotted black;border-radius: 0.25em;box-sizing: border-box;margin-bottom: 0.5em;}#sk-29694549-768c-4d29-aa0a-0270584e9f00 div.sk-estimator:hover {background-color: #d4ebff;}#sk-29694549-768c-4d29-aa0a-0270584e9f00 div.sk-parallel-item::after {content: \"\";width: 100%;border-bottom: 1px solid gray;flex-grow: 1;}#sk-29694549-768c-4d29-aa0a-0270584e9f00 div.sk-label:hover label.sk-toggleable__label {background-color: #d4ebff;}#sk-29694549-768c-4d29-aa0a-0270584e9f00 div.sk-serial::before {content: \"\";position: absolute;border-left: 1px solid gray;box-sizing: border-box;top: 2em;bottom: 0;left: 50%;}#sk-29694549-768c-4d29-aa0a-0270584e9f00 div.sk-serial {display: flex;flex-direction: column;align-items: center;background-color: white;padding-right: 0.2em;padding-left: 0.2em;}#sk-29694549-768c-4d29-aa0a-0270584e9f00 div.sk-item {z-index: 1;}#sk-29694549-768c-4d29-aa0a-0270584e9f00 div.sk-parallel {display: flex;align-items: stretch;justify-content: center;background-color: white;}#sk-29694549-768c-4d29-aa0a-0270584e9f00 div.sk-parallel::before {content: \"\";position: absolute;border-left: 1px solid gray;box-sizing: border-box;top: 2em;bottom: 0;left: 50%;}#sk-29694549-768c-4d29-aa0a-0270584e9f00 div.sk-parallel-item {display: flex;flex-direction: column;position: relative;background-color: white;}#sk-29694549-768c-4d29-aa0a-0270584e9f00 div.sk-parallel-item:first-child::after {align-self: flex-end;width: 50%;}#sk-29694549-768c-4d29-aa0a-0270584e9f00 div.sk-parallel-item:last-child::after {align-self: flex-start;width: 50%;}#sk-29694549-768c-4d29-aa0a-0270584e9f00 div.sk-parallel-item:only-child::after {width: 0;}#sk-29694549-768c-4d29-aa0a-0270584e9f00 div.sk-dashed-wrapped {border: 1px dashed gray;margin: 0 0.4em 0.5em 0.4em;box-sizing: border-box;padding-bottom: 0.4em;background-color: white;position: relative;}#sk-29694549-768c-4d29-aa0a-0270584e9f00 div.sk-label label {font-family: monospace;font-weight: bold;background-color: white;display: inline-block;line-height: 1.2em;}#sk-29694549-768c-4d29-aa0a-0270584e9f00 div.sk-label-container {position: relative;z-index: 2;text-align: center;}#sk-29694549-768c-4d29-aa0a-0270584e9f00 div.sk-container {/* jupyter's `normalize.less` sets `[hidden] { display: none; }` but bootstrap.min.css set `[hidden] { display: none !important; }` so we also need the `!important` here to be able to override the default hidden behavior on the sphinx rendered scikit-learn.org. See: https://github.com/scikit-learn/scikit-learn/issues/21755 */display: inline-block !important;position: relative;}#sk-29694549-768c-4d29-aa0a-0270584e9f00 div.sk-text-repr-fallback {display: none;}</style><div id=\"sk-29694549-768c-4d29-aa0a-0270584e9f00\" class=\"sk-top-container\"><div class=\"sk-text-repr-fallback\"><pre>Pipeline(steps=[(&#x27;onehotencoder&#x27;,\n",
       "                 OneHotEncoder(handle_unknown=&#x27;ignore&#x27;, sparse=False))])</pre><b>Please rerun this cell to show the HTML repr or trust the notebook.</b></div><div class=\"sk-container\" hidden><div class=\"sk-item sk-dashed-wrapped\"><div class=\"sk-label-container\"><div class=\"sk-label sk-toggleable\"><input class=\"sk-toggleable__control sk-hidden--visually\" id=\"806eff6a-0c3a-4a6f-819c-b9915908b44e\" type=\"checkbox\" ><label for=\"806eff6a-0c3a-4a6f-819c-b9915908b44e\" class=\"sk-toggleable__label sk-toggleable__label-arrow\">Pipeline</label><div class=\"sk-toggleable__content\"><pre>Pipeline(steps=[(&#x27;onehotencoder&#x27;,\n",
       "                 OneHotEncoder(handle_unknown=&#x27;ignore&#x27;, sparse=False))])</pre></div></div></div><div class=\"sk-serial\"><div class=\"sk-item\"><div class=\"sk-estimator sk-toggleable\"><input class=\"sk-toggleable__control sk-hidden--visually\" id=\"db8443ff-349d-446b-bc49-bc2fa589d7c1\" type=\"checkbox\" ><label for=\"db8443ff-349d-446b-bc49-bc2fa589d7c1\" class=\"sk-toggleable__label sk-toggleable__label-arrow\">OneHotEncoder</label><div class=\"sk-toggleable__content\"><pre>OneHotEncoder(handle_unknown=&#x27;ignore&#x27;, sparse=False)</pre></div></div></div></div></div></div></div>"
      ],
      "text/plain": [
       "Pipeline(steps=[('onehotencoder',\n",
       "                 OneHotEncoder(handle_unknown='ignore', sparse=False))])"
      ]
     },
     "execution_count": 137,
     "metadata": {},
     "output_type": "execute_result"
    }
   ],
   "source": [
    "# Categorical pipeline\n",
    "categorical_pipe = make_pipeline(ohe)\n",
    "categorical_pipe"
   ]
  },
  {
   "cell_type": "code",
   "execution_count": 138,
   "id": "00e6a1d8",
   "metadata": {},
   "outputs": [
    {
     "data": {
      "text/html": [
       "<style>#sk-05578c83-406a-4ada-b7bd-eb31001fc10a {color: black;background-color: white;}#sk-05578c83-406a-4ada-b7bd-eb31001fc10a pre{padding: 0;}#sk-05578c83-406a-4ada-b7bd-eb31001fc10a div.sk-toggleable {background-color: white;}#sk-05578c83-406a-4ada-b7bd-eb31001fc10a label.sk-toggleable__label {cursor: pointer;display: block;width: 100%;margin-bottom: 0;padding: 0.3em;box-sizing: border-box;text-align: center;}#sk-05578c83-406a-4ada-b7bd-eb31001fc10a label.sk-toggleable__label-arrow:before {content: \"▸\";float: left;margin-right: 0.25em;color: #696969;}#sk-05578c83-406a-4ada-b7bd-eb31001fc10a label.sk-toggleable__label-arrow:hover:before {color: black;}#sk-05578c83-406a-4ada-b7bd-eb31001fc10a div.sk-estimator:hover label.sk-toggleable__label-arrow:before {color: black;}#sk-05578c83-406a-4ada-b7bd-eb31001fc10a div.sk-toggleable__content {max-height: 0;max-width: 0;overflow: hidden;text-align: left;background-color: #f0f8ff;}#sk-05578c83-406a-4ada-b7bd-eb31001fc10a div.sk-toggleable__content pre {margin: 0.2em;color: black;border-radius: 0.25em;background-color: #f0f8ff;}#sk-05578c83-406a-4ada-b7bd-eb31001fc10a input.sk-toggleable__control:checked~div.sk-toggleable__content {max-height: 200px;max-width: 100%;overflow: auto;}#sk-05578c83-406a-4ada-b7bd-eb31001fc10a input.sk-toggleable__control:checked~label.sk-toggleable__label-arrow:before {content: \"▾\";}#sk-05578c83-406a-4ada-b7bd-eb31001fc10a div.sk-estimator input.sk-toggleable__control:checked~label.sk-toggleable__label {background-color: #d4ebff;}#sk-05578c83-406a-4ada-b7bd-eb31001fc10a div.sk-label input.sk-toggleable__control:checked~label.sk-toggleable__label {background-color: #d4ebff;}#sk-05578c83-406a-4ada-b7bd-eb31001fc10a input.sk-hidden--visually {border: 0;clip: rect(1px 1px 1px 1px);clip: rect(1px, 1px, 1px, 1px);height: 1px;margin: -1px;overflow: hidden;padding: 0;position: absolute;width: 1px;}#sk-05578c83-406a-4ada-b7bd-eb31001fc10a div.sk-estimator {font-family: monospace;background-color: #f0f8ff;border: 1px dotted black;border-radius: 0.25em;box-sizing: border-box;margin-bottom: 0.5em;}#sk-05578c83-406a-4ada-b7bd-eb31001fc10a div.sk-estimator:hover {background-color: #d4ebff;}#sk-05578c83-406a-4ada-b7bd-eb31001fc10a div.sk-parallel-item::after {content: \"\";width: 100%;border-bottom: 1px solid gray;flex-grow: 1;}#sk-05578c83-406a-4ada-b7bd-eb31001fc10a div.sk-label:hover label.sk-toggleable__label {background-color: #d4ebff;}#sk-05578c83-406a-4ada-b7bd-eb31001fc10a div.sk-serial::before {content: \"\";position: absolute;border-left: 1px solid gray;box-sizing: border-box;top: 2em;bottom: 0;left: 50%;}#sk-05578c83-406a-4ada-b7bd-eb31001fc10a div.sk-serial {display: flex;flex-direction: column;align-items: center;background-color: white;padding-right: 0.2em;padding-left: 0.2em;}#sk-05578c83-406a-4ada-b7bd-eb31001fc10a div.sk-item {z-index: 1;}#sk-05578c83-406a-4ada-b7bd-eb31001fc10a div.sk-parallel {display: flex;align-items: stretch;justify-content: center;background-color: white;}#sk-05578c83-406a-4ada-b7bd-eb31001fc10a div.sk-parallel::before {content: \"\";position: absolute;border-left: 1px solid gray;box-sizing: border-box;top: 2em;bottom: 0;left: 50%;}#sk-05578c83-406a-4ada-b7bd-eb31001fc10a div.sk-parallel-item {display: flex;flex-direction: column;position: relative;background-color: white;}#sk-05578c83-406a-4ada-b7bd-eb31001fc10a div.sk-parallel-item:first-child::after {align-self: flex-end;width: 50%;}#sk-05578c83-406a-4ada-b7bd-eb31001fc10a div.sk-parallel-item:last-child::after {align-self: flex-start;width: 50%;}#sk-05578c83-406a-4ada-b7bd-eb31001fc10a div.sk-parallel-item:only-child::after {width: 0;}#sk-05578c83-406a-4ada-b7bd-eb31001fc10a div.sk-dashed-wrapped {border: 1px dashed gray;margin: 0 0.4em 0.5em 0.4em;box-sizing: border-box;padding-bottom: 0.4em;background-color: white;position: relative;}#sk-05578c83-406a-4ada-b7bd-eb31001fc10a div.sk-label label {font-family: monospace;font-weight: bold;background-color: white;display: inline-block;line-height: 1.2em;}#sk-05578c83-406a-4ada-b7bd-eb31001fc10a div.sk-label-container {position: relative;z-index: 2;text-align: center;}#sk-05578c83-406a-4ada-b7bd-eb31001fc10a div.sk-container {/* jupyter's `normalize.less` sets `[hidden] { display: none; }` but bootstrap.min.css set `[hidden] { display: none !important; }` so we also need the `!important` here to be able to override the default hidden behavior on the sphinx rendered scikit-learn.org. See: https://github.com/scikit-learn/scikit-learn/issues/21755 */display: inline-block !important;position: relative;}#sk-05578c83-406a-4ada-b7bd-eb31001fc10a div.sk-text-repr-fallback {display: none;}</style><div id=\"sk-05578c83-406a-4ada-b7bd-eb31001fc10a\" class=\"sk-top-container\"><div class=\"sk-text-repr-fallback\"><pre>ColumnTransformer(transformers=[(&#x27;pipeline-1&#x27;,\n",
       "                                 Pipeline(steps=[(&#x27;standardscaler&#x27;,\n",
       "                                                  StandardScaler())]),\n",
       "                                 &lt;sklearn.compose._column_transformer.make_column_selector object at 0x7fce8fea60a0&gt;),\n",
       "                                (&#x27;pipeline-2&#x27;,\n",
       "                                 Pipeline(steps=[(&#x27;onehotencoder&#x27;,\n",
       "                                                  OneHotEncoder(handle_unknown=&#x27;ignore&#x27;,\n",
       "                                                                sparse=False))]),\n",
       "                                 &lt;sklearn.compose._column_transformer.make_column_selector object at 0x7fceaf3c44f0&gt;)])</pre><b>Please rerun this cell to show the HTML repr or trust the notebook.</b></div><div class=\"sk-container\" hidden><div class=\"sk-item sk-dashed-wrapped\"><div class=\"sk-label-container\"><div class=\"sk-label sk-toggleable\"><input class=\"sk-toggleable__control sk-hidden--visually\" id=\"bd66b6bd-f996-41f1-9f7c-4c6f59280689\" type=\"checkbox\" ><label for=\"bd66b6bd-f996-41f1-9f7c-4c6f59280689\" class=\"sk-toggleable__label sk-toggleable__label-arrow\">ColumnTransformer</label><div class=\"sk-toggleable__content\"><pre>ColumnTransformer(transformers=[(&#x27;pipeline-1&#x27;,\n",
       "                                 Pipeline(steps=[(&#x27;standardscaler&#x27;,\n",
       "                                                  StandardScaler())]),\n",
       "                                 &lt;sklearn.compose._column_transformer.make_column_selector object at 0x7fce8fea60a0&gt;),\n",
       "                                (&#x27;pipeline-2&#x27;,\n",
       "                                 Pipeline(steps=[(&#x27;onehotencoder&#x27;,\n",
       "                                                  OneHotEncoder(handle_unknown=&#x27;ignore&#x27;,\n",
       "                                                                sparse=False))]),\n",
       "                                 &lt;sklearn.compose._column_transformer.make_column_selector object at 0x7fceaf3c44f0&gt;)])</pre></div></div></div><div class=\"sk-parallel\"><div class=\"sk-parallel-item\"><div class=\"sk-item\"><div class=\"sk-label-container\"><div class=\"sk-label sk-toggleable\"><input class=\"sk-toggleable__control sk-hidden--visually\" id=\"a370510a-3abe-4b18-b098-484565594a52\" type=\"checkbox\" ><label for=\"a370510a-3abe-4b18-b098-484565594a52\" class=\"sk-toggleable__label sk-toggleable__label-arrow\">pipeline-1</label><div class=\"sk-toggleable__content\"><pre>&lt;sklearn.compose._column_transformer.make_column_selector object at 0x7fce8fea60a0&gt;</pre></div></div></div><div class=\"sk-serial\"><div class=\"sk-item\"><div class=\"sk-serial\"><div class=\"sk-item\"><div class=\"sk-estimator sk-toggleable\"><input class=\"sk-toggleable__control sk-hidden--visually\" id=\"537acc0c-c58f-4d5d-b6ba-d19afc399ce9\" type=\"checkbox\" ><label for=\"537acc0c-c58f-4d5d-b6ba-d19afc399ce9\" class=\"sk-toggleable__label sk-toggleable__label-arrow\">StandardScaler</label><div class=\"sk-toggleable__content\"><pre>StandardScaler()</pre></div></div></div></div></div></div></div></div><div class=\"sk-parallel-item\"><div class=\"sk-item\"><div class=\"sk-label-container\"><div class=\"sk-label sk-toggleable\"><input class=\"sk-toggleable__control sk-hidden--visually\" id=\"2dd02bdb-aa19-4d62-b98b-668362dc6197\" type=\"checkbox\" ><label for=\"2dd02bdb-aa19-4d62-b98b-668362dc6197\" class=\"sk-toggleable__label sk-toggleable__label-arrow\">pipeline-2</label><div class=\"sk-toggleable__content\"><pre>&lt;sklearn.compose._column_transformer.make_column_selector object at 0x7fceaf3c44f0&gt;</pre></div></div></div><div class=\"sk-serial\"><div class=\"sk-item\"><div class=\"sk-serial\"><div class=\"sk-item\"><div class=\"sk-estimator sk-toggleable\"><input class=\"sk-toggleable__control sk-hidden--visually\" id=\"4c12482b-df68-439e-9d9b-8d5961970bff\" type=\"checkbox\" ><label for=\"4c12482b-df68-439e-9d9b-8d5961970bff\" class=\"sk-toggleable__label sk-toggleable__label-arrow\">OneHotEncoder</label><div class=\"sk-toggleable__content\"><pre>OneHotEncoder(handle_unknown=&#x27;ignore&#x27;, sparse=False)</pre></div></div></div></div></div></div></div></div></div></div></div></div>"
      ],
      "text/plain": [
       "ColumnTransformer(transformers=[('pipeline-1',\n",
       "                                 Pipeline(steps=[('standardscaler',\n",
       "                                                  StandardScaler())]),\n",
       "                                 <sklearn.compose._column_transformer.make_column_selector object at 0x7fce8fea60a0>),\n",
       "                                ('pipeline-2',\n",
       "                                 Pipeline(steps=[('onehotencoder',\n",
       "                                                  OneHotEncoder(handle_unknown='ignore',\n",
       "                                                                sparse=False))]),\n",
       "                                 <sklearn.compose._column_transformer.make_column_selector object at 0x7fceaf3c44f0>)])"
      ]
     },
     "execution_count": 138,
     "metadata": {},
     "output_type": "execute_result"
    }
   ],
   "source": [
    "# Tuples para Column Transformer\n",
    "number_tuple = (numeric_pipe, num_selector)\n",
    "category_tuple = (categorical_pipe, cat_selector)\n",
    "# ColumnTransformer\n",
    "preprocessor = make_column_transformer(number_tuple, category_tuple)\n",
    "preprocessor\n"
   ]
  },
  {
   "cell_type": "code",
   "execution_count": 139,
   "id": "0f1e3f71",
   "metadata": {},
   "outputs": [
    {
     "data": {
      "text/html": [
       "<style>#sk-9b23c020-1cdb-4203-954c-6c736c3a3bce {color: black;background-color: white;}#sk-9b23c020-1cdb-4203-954c-6c736c3a3bce pre{padding: 0;}#sk-9b23c020-1cdb-4203-954c-6c736c3a3bce div.sk-toggleable {background-color: white;}#sk-9b23c020-1cdb-4203-954c-6c736c3a3bce label.sk-toggleable__label {cursor: pointer;display: block;width: 100%;margin-bottom: 0;padding: 0.3em;box-sizing: border-box;text-align: center;}#sk-9b23c020-1cdb-4203-954c-6c736c3a3bce label.sk-toggleable__label-arrow:before {content: \"▸\";float: left;margin-right: 0.25em;color: #696969;}#sk-9b23c020-1cdb-4203-954c-6c736c3a3bce label.sk-toggleable__label-arrow:hover:before {color: black;}#sk-9b23c020-1cdb-4203-954c-6c736c3a3bce div.sk-estimator:hover label.sk-toggleable__label-arrow:before {color: black;}#sk-9b23c020-1cdb-4203-954c-6c736c3a3bce div.sk-toggleable__content {max-height: 0;max-width: 0;overflow: hidden;text-align: left;background-color: #f0f8ff;}#sk-9b23c020-1cdb-4203-954c-6c736c3a3bce div.sk-toggleable__content pre {margin: 0.2em;color: black;border-radius: 0.25em;background-color: #f0f8ff;}#sk-9b23c020-1cdb-4203-954c-6c736c3a3bce input.sk-toggleable__control:checked~div.sk-toggleable__content {max-height: 200px;max-width: 100%;overflow: auto;}#sk-9b23c020-1cdb-4203-954c-6c736c3a3bce input.sk-toggleable__control:checked~label.sk-toggleable__label-arrow:before {content: \"▾\";}#sk-9b23c020-1cdb-4203-954c-6c736c3a3bce div.sk-estimator input.sk-toggleable__control:checked~label.sk-toggleable__label {background-color: #d4ebff;}#sk-9b23c020-1cdb-4203-954c-6c736c3a3bce div.sk-label input.sk-toggleable__control:checked~label.sk-toggleable__label {background-color: #d4ebff;}#sk-9b23c020-1cdb-4203-954c-6c736c3a3bce input.sk-hidden--visually {border: 0;clip: rect(1px 1px 1px 1px);clip: rect(1px, 1px, 1px, 1px);height: 1px;margin: -1px;overflow: hidden;padding: 0;position: absolute;width: 1px;}#sk-9b23c020-1cdb-4203-954c-6c736c3a3bce div.sk-estimator {font-family: monospace;background-color: #f0f8ff;border: 1px dotted black;border-radius: 0.25em;box-sizing: border-box;margin-bottom: 0.5em;}#sk-9b23c020-1cdb-4203-954c-6c736c3a3bce div.sk-estimator:hover {background-color: #d4ebff;}#sk-9b23c020-1cdb-4203-954c-6c736c3a3bce div.sk-parallel-item::after {content: \"\";width: 100%;border-bottom: 1px solid gray;flex-grow: 1;}#sk-9b23c020-1cdb-4203-954c-6c736c3a3bce div.sk-label:hover label.sk-toggleable__label {background-color: #d4ebff;}#sk-9b23c020-1cdb-4203-954c-6c736c3a3bce div.sk-serial::before {content: \"\";position: absolute;border-left: 1px solid gray;box-sizing: border-box;top: 2em;bottom: 0;left: 50%;}#sk-9b23c020-1cdb-4203-954c-6c736c3a3bce div.sk-serial {display: flex;flex-direction: column;align-items: center;background-color: white;padding-right: 0.2em;padding-left: 0.2em;}#sk-9b23c020-1cdb-4203-954c-6c736c3a3bce div.sk-item {z-index: 1;}#sk-9b23c020-1cdb-4203-954c-6c736c3a3bce div.sk-parallel {display: flex;align-items: stretch;justify-content: center;background-color: white;}#sk-9b23c020-1cdb-4203-954c-6c736c3a3bce div.sk-parallel::before {content: \"\";position: absolute;border-left: 1px solid gray;box-sizing: border-box;top: 2em;bottom: 0;left: 50%;}#sk-9b23c020-1cdb-4203-954c-6c736c3a3bce div.sk-parallel-item {display: flex;flex-direction: column;position: relative;background-color: white;}#sk-9b23c020-1cdb-4203-954c-6c736c3a3bce div.sk-parallel-item:first-child::after {align-self: flex-end;width: 50%;}#sk-9b23c020-1cdb-4203-954c-6c736c3a3bce div.sk-parallel-item:last-child::after {align-self: flex-start;width: 50%;}#sk-9b23c020-1cdb-4203-954c-6c736c3a3bce div.sk-parallel-item:only-child::after {width: 0;}#sk-9b23c020-1cdb-4203-954c-6c736c3a3bce div.sk-dashed-wrapped {border: 1px dashed gray;margin: 0 0.4em 0.5em 0.4em;box-sizing: border-box;padding-bottom: 0.4em;background-color: white;position: relative;}#sk-9b23c020-1cdb-4203-954c-6c736c3a3bce div.sk-label label {font-family: monospace;font-weight: bold;background-color: white;display: inline-block;line-height: 1.2em;}#sk-9b23c020-1cdb-4203-954c-6c736c3a3bce div.sk-label-container {position: relative;z-index: 2;text-align: center;}#sk-9b23c020-1cdb-4203-954c-6c736c3a3bce div.sk-container {/* jupyter's `normalize.less` sets `[hidden] { display: none; }` but bootstrap.min.css set `[hidden] { display: none !important; }` so we also need the `!important` here to be able to override the default hidden behavior on the sphinx rendered scikit-learn.org. See: https://github.com/scikit-learn/scikit-learn/issues/21755 */display: inline-block !important;position: relative;}#sk-9b23c020-1cdb-4203-954c-6c736c3a3bce div.sk-text-repr-fallback {display: none;}</style><div id=\"sk-9b23c020-1cdb-4203-954c-6c736c3a3bce\" class=\"sk-top-container\"><div class=\"sk-text-repr-fallback\"><pre>ColumnTransformer(transformers=[(&#x27;pipeline-1&#x27;,\n",
       "                                 Pipeline(steps=[(&#x27;standardscaler&#x27;,\n",
       "                                                  StandardScaler())]),\n",
       "                                 &lt;sklearn.compose._column_transformer.make_column_selector object at 0x7fce8fea60a0&gt;),\n",
       "                                (&#x27;pipeline-2&#x27;,\n",
       "                                 Pipeline(steps=[(&#x27;onehotencoder&#x27;,\n",
       "                                                  OneHotEncoder(handle_unknown=&#x27;ignore&#x27;,\n",
       "                                                                sparse=False))]),\n",
       "                                 &lt;sklearn.compose._column_transformer.make_column_selector object at 0x7fceaf3c44f0&gt;)])</pre><b>Please rerun this cell to show the HTML repr or trust the notebook.</b></div><div class=\"sk-container\" hidden><div class=\"sk-item sk-dashed-wrapped\"><div class=\"sk-label-container\"><div class=\"sk-label sk-toggleable\"><input class=\"sk-toggleable__control sk-hidden--visually\" id=\"edad937d-c7eb-4358-bdb8-d9fcc000f59a\" type=\"checkbox\" ><label for=\"edad937d-c7eb-4358-bdb8-d9fcc000f59a\" class=\"sk-toggleable__label sk-toggleable__label-arrow\">ColumnTransformer</label><div class=\"sk-toggleable__content\"><pre>ColumnTransformer(transformers=[(&#x27;pipeline-1&#x27;,\n",
       "                                 Pipeline(steps=[(&#x27;standardscaler&#x27;,\n",
       "                                                  StandardScaler())]),\n",
       "                                 &lt;sklearn.compose._column_transformer.make_column_selector object at 0x7fce8fea60a0&gt;),\n",
       "                                (&#x27;pipeline-2&#x27;,\n",
       "                                 Pipeline(steps=[(&#x27;onehotencoder&#x27;,\n",
       "                                                  OneHotEncoder(handle_unknown=&#x27;ignore&#x27;,\n",
       "                                                                sparse=False))]),\n",
       "                                 &lt;sklearn.compose._column_transformer.make_column_selector object at 0x7fceaf3c44f0&gt;)])</pre></div></div></div><div class=\"sk-parallel\"><div class=\"sk-parallel-item\"><div class=\"sk-item\"><div class=\"sk-label-container\"><div class=\"sk-label sk-toggleable\"><input class=\"sk-toggleable__control sk-hidden--visually\" id=\"c791f846-0db8-4c69-9a8d-c72b189fa545\" type=\"checkbox\" ><label for=\"c791f846-0db8-4c69-9a8d-c72b189fa545\" class=\"sk-toggleable__label sk-toggleable__label-arrow\">pipeline-1</label><div class=\"sk-toggleable__content\"><pre>&lt;sklearn.compose._column_transformer.make_column_selector object at 0x7fce8fea60a0&gt;</pre></div></div></div><div class=\"sk-serial\"><div class=\"sk-item\"><div class=\"sk-serial\"><div class=\"sk-item\"><div class=\"sk-estimator sk-toggleable\"><input class=\"sk-toggleable__control sk-hidden--visually\" id=\"a6c49450-4d81-4420-b513-fc2ab83ab6c2\" type=\"checkbox\" ><label for=\"a6c49450-4d81-4420-b513-fc2ab83ab6c2\" class=\"sk-toggleable__label sk-toggleable__label-arrow\">StandardScaler</label><div class=\"sk-toggleable__content\"><pre>StandardScaler()</pre></div></div></div></div></div></div></div></div><div class=\"sk-parallel-item\"><div class=\"sk-item\"><div class=\"sk-label-container\"><div class=\"sk-label sk-toggleable\"><input class=\"sk-toggleable__control sk-hidden--visually\" id=\"0441cdf7-2455-4e74-a668-e3e0935f6495\" type=\"checkbox\" ><label for=\"0441cdf7-2455-4e74-a668-e3e0935f6495\" class=\"sk-toggleable__label sk-toggleable__label-arrow\">pipeline-2</label><div class=\"sk-toggleable__content\"><pre>&lt;sklearn.compose._column_transformer.make_column_selector object at 0x7fceaf3c44f0&gt;</pre></div></div></div><div class=\"sk-serial\"><div class=\"sk-item\"><div class=\"sk-serial\"><div class=\"sk-item\"><div class=\"sk-estimator sk-toggleable\"><input class=\"sk-toggleable__control sk-hidden--visually\" id=\"588c5f5b-e052-437f-acd7-f96a4c909859\" type=\"checkbox\" ><label for=\"588c5f5b-e052-437f-acd7-f96a4c909859\" class=\"sk-toggleable__label sk-toggleable__label-arrow\">OneHotEncoder</label><div class=\"sk-toggleable__content\"><pre>OneHotEncoder(handle_unknown=&#x27;ignore&#x27;, sparse=False)</pre></div></div></div></div></div></div></div></div></div></div></div></div>"
      ],
      "text/plain": [
       "ColumnTransformer(transformers=[('pipeline-1',\n",
       "                                 Pipeline(steps=[('standardscaler',\n",
       "                                                  StandardScaler())]),\n",
       "                                 <sklearn.compose._column_transformer.make_column_selector object at 0x7fce8fea60a0>),\n",
       "                                ('pipeline-2',\n",
       "                                 Pipeline(steps=[('onehotencoder',\n",
       "                                                  OneHotEncoder(handle_unknown='ignore',\n",
       "                                                                sparse=False))]),\n",
       "                                 <sklearn.compose._column_transformer.make_column_selector object at 0x7fceaf3c44f0>)])"
      ]
     },
     "execution_count": 139,
     "metadata": {},
     "output_type": "execute_result"
    }
   ],
   "source": [
    "# fit on train\n",
    "preprocessor.fit(X_train)"
   ]
  },
  {
   "cell_type": "code",
   "execution_count": 140,
   "id": "a04303f6",
   "metadata": {},
   "outputs": [],
   "source": [
    "# transform train and test\n",
    "X_train = preprocessor.transform(X_train)\n",
    "X_test = preprocessor.transform(X_test)"
   ]
  },
  {
   "cell_type": "code",
   "execution_count": 141,
   "id": "94dcdd76",
   "metadata": {},
   "outputs": [
    {
     "name": "stdout",
     "output_type": "stream",
     "text": [
      "0 missing values in training data\n",
      "0 missing values in testing data\n",
      "\n",
      "\n",
      "All data in X_train_processed are float64\n",
      "All data in X_test_processed are float64\n",
      "\n",
      "\n",
      "shape of data is (218453, 41)\n",
      "\n",
      "\n"
     ]
    },
    {
     "data": {
      "text/plain": [
       "array([[-1.62215711,  1.49865434,  1.35200523, ...,  0.        ,\n",
       "         1.        ,  0.        ],\n",
       "       [-0.66332791, -0.19439623,  0.01091368, ...,  0.        ,\n",
       "         1.        ,  0.        ],\n",
       "       [-0.0266314 , -0.44337425, -0.6596321 , ...,  0.        ,\n",
       "         1.        ,  0.        ],\n",
       "       ...,\n",
       "       [-0.81713149,  1.44885873,  0.8490959 , ...,  0.        ,\n",
       "         1.        ,  0.        ],\n",
       "       [ 0.62442368,  0.15417301,  0.8490959 , ...,  0.        ,\n",
       "         1.        ,  0.        ],\n",
       "       [-0.88276904,  0.1043774 ,  0.0947319 , ...,  0.        ,\n",
       "         1.        ,  0.        ]])"
      ]
     },
     "execution_count": 141,
     "metadata": {},
     "output_type": "execute_result"
    }
   ],
   "source": [
    "print(np.isnan(X_train).sum().sum(), 'missing values in training data')\n",
    "print(np.isnan(X_test).sum().sum(), 'missing values in testing data')\n",
    "print('\\n')\n",
    "print('All data in X_train_processed are', X_train.dtype)\n",
    "print('All data in X_test_processed are', X_test.dtype)\n",
    "print('\\n')\n",
    "print('shape of data is', X_train.shape)\n",
    "print('\\n')\n",
    "X_train"
   ]
  },
  {
   "cell_type": "code",
   "execution_count": 142,
   "id": "75c9b255",
   "metadata": {},
   "outputs": [
    {
     "data": {
      "text/html": [
       "<style>#sk-9c5c05a3-d6fb-4f7c-a3f5-02b5ecca2347 {color: black;background-color: white;}#sk-9c5c05a3-d6fb-4f7c-a3f5-02b5ecca2347 pre{padding: 0;}#sk-9c5c05a3-d6fb-4f7c-a3f5-02b5ecca2347 div.sk-toggleable {background-color: white;}#sk-9c5c05a3-d6fb-4f7c-a3f5-02b5ecca2347 label.sk-toggleable__label {cursor: pointer;display: block;width: 100%;margin-bottom: 0;padding: 0.3em;box-sizing: border-box;text-align: center;}#sk-9c5c05a3-d6fb-4f7c-a3f5-02b5ecca2347 label.sk-toggleable__label-arrow:before {content: \"▸\";float: left;margin-right: 0.25em;color: #696969;}#sk-9c5c05a3-d6fb-4f7c-a3f5-02b5ecca2347 label.sk-toggleable__label-arrow:hover:before {color: black;}#sk-9c5c05a3-d6fb-4f7c-a3f5-02b5ecca2347 div.sk-estimator:hover label.sk-toggleable__label-arrow:before {color: black;}#sk-9c5c05a3-d6fb-4f7c-a3f5-02b5ecca2347 div.sk-toggleable__content {max-height: 0;max-width: 0;overflow: hidden;text-align: left;background-color: #f0f8ff;}#sk-9c5c05a3-d6fb-4f7c-a3f5-02b5ecca2347 div.sk-toggleable__content pre {margin: 0.2em;color: black;border-radius: 0.25em;background-color: #f0f8ff;}#sk-9c5c05a3-d6fb-4f7c-a3f5-02b5ecca2347 input.sk-toggleable__control:checked~div.sk-toggleable__content {max-height: 200px;max-width: 100%;overflow: auto;}#sk-9c5c05a3-d6fb-4f7c-a3f5-02b5ecca2347 input.sk-toggleable__control:checked~label.sk-toggleable__label-arrow:before {content: \"▾\";}#sk-9c5c05a3-d6fb-4f7c-a3f5-02b5ecca2347 div.sk-estimator input.sk-toggleable__control:checked~label.sk-toggleable__label {background-color: #d4ebff;}#sk-9c5c05a3-d6fb-4f7c-a3f5-02b5ecca2347 div.sk-label input.sk-toggleable__control:checked~label.sk-toggleable__label {background-color: #d4ebff;}#sk-9c5c05a3-d6fb-4f7c-a3f5-02b5ecca2347 input.sk-hidden--visually {border: 0;clip: rect(1px 1px 1px 1px);clip: rect(1px, 1px, 1px, 1px);height: 1px;margin: -1px;overflow: hidden;padding: 0;position: absolute;width: 1px;}#sk-9c5c05a3-d6fb-4f7c-a3f5-02b5ecca2347 div.sk-estimator {font-family: monospace;background-color: #f0f8ff;border: 1px dotted black;border-radius: 0.25em;box-sizing: border-box;margin-bottom: 0.5em;}#sk-9c5c05a3-d6fb-4f7c-a3f5-02b5ecca2347 div.sk-estimator:hover {background-color: #d4ebff;}#sk-9c5c05a3-d6fb-4f7c-a3f5-02b5ecca2347 div.sk-parallel-item::after {content: \"\";width: 100%;border-bottom: 1px solid gray;flex-grow: 1;}#sk-9c5c05a3-d6fb-4f7c-a3f5-02b5ecca2347 div.sk-label:hover label.sk-toggleable__label {background-color: #d4ebff;}#sk-9c5c05a3-d6fb-4f7c-a3f5-02b5ecca2347 div.sk-serial::before {content: \"\";position: absolute;border-left: 1px solid gray;box-sizing: border-box;top: 2em;bottom: 0;left: 50%;}#sk-9c5c05a3-d6fb-4f7c-a3f5-02b5ecca2347 div.sk-serial {display: flex;flex-direction: column;align-items: center;background-color: white;padding-right: 0.2em;padding-left: 0.2em;}#sk-9c5c05a3-d6fb-4f7c-a3f5-02b5ecca2347 div.sk-item {z-index: 1;}#sk-9c5c05a3-d6fb-4f7c-a3f5-02b5ecca2347 div.sk-parallel {display: flex;align-items: stretch;justify-content: center;background-color: white;}#sk-9c5c05a3-d6fb-4f7c-a3f5-02b5ecca2347 div.sk-parallel::before {content: \"\";position: absolute;border-left: 1px solid gray;box-sizing: border-box;top: 2em;bottom: 0;left: 50%;}#sk-9c5c05a3-d6fb-4f7c-a3f5-02b5ecca2347 div.sk-parallel-item {display: flex;flex-direction: column;position: relative;background-color: white;}#sk-9c5c05a3-d6fb-4f7c-a3f5-02b5ecca2347 div.sk-parallel-item:first-child::after {align-self: flex-end;width: 50%;}#sk-9c5c05a3-d6fb-4f7c-a3f5-02b5ecca2347 div.sk-parallel-item:last-child::after {align-self: flex-start;width: 50%;}#sk-9c5c05a3-d6fb-4f7c-a3f5-02b5ecca2347 div.sk-parallel-item:only-child::after {width: 0;}#sk-9c5c05a3-d6fb-4f7c-a3f5-02b5ecca2347 div.sk-dashed-wrapped {border: 1px dashed gray;margin: 0 0.4em 0.5em 0.4em;box-sizing: border-box;padding-bottom: 0.4em;background-color: white;position: relative;}#sk-9c5c05a3-d6fb-4f7c-a3f5-02b5ecca2347 div.sk-label label {font-family: monospace;font-weight: bold;background-color: white;display: inline-block;line-height: 1.2em;}#sk-9c5c05a3-d6fb-4f7c-a3f5-02b5ecca2347 div.sk-label-container {position: relative;z-index: 2;text-align: center;}#sk-9c5c05a3-d6fb-4f7c-a3f5-02b5ecca2347 div.sk-container {/* jupyter's `normalize.less` sets `[hidden] { display: none; }` but bootstrap.min.css set `[hidden] { display: none !important; }` so we also need the `!important` here to be able to override the default hidden behavior on the sphinx rendered scikit-learn.org. See: https://github.com/scikit-learn/scikit-learn/issues/21755 */display: inline-block !important;position: relative;}#sk-9c5c05a3-d6fb-4f7c-a3f5-02b5ecca2347 div.sk-text-repr-fallback {display: none;}</style><div id=\"sk-9c5c05a3-d6fb-4f7c-a3f5-02b5ecca2347\" class=\"sk-top-container\"><div class=\"sk-text-repr-fallback\"><pre>XGBClassifier(base_score=None, booster=None, callbacks=None,\n",
       "              colsample_bylevel=None, colsample_bynode=None,\n",
       "              colsample_bytree=None, early_stopping_rounds=None,\n",
       "              enable_categorical=False, eval_metric=None, feature_types=None,\n",
       "              gamma=None, gpu_id=None, grow_policy=None, importance_type=None,\n",
       "              interaction_constraints=None, learning_rate=None, max_bin=None,\n",
       "              max_cat_threshold=None, max_cat_to_onehot=None,\n",
       "              max_delta_step=None, max_depth=None, max_leaves=None,\n",
       "              min_child_weight=None, missing=nan, monotone_constraints=None,\n",
       "              n_estimators=100, n_jobs=None, num_parallel_tree=None,\n",
       "              predictor=None, random_state=None, ...)</pre><b>Please rerun this cell to show the HTML repr or trust the notebook.</b></div><div class=\"sk-container\" hidden><div class=\"sk-item\"><div class=\"sk-estimator sk-toggleable\"><input class=\"sk-toggleable__control sk-hidden--visually\" id=\"622a48b0-8bad-44e8-b751-4eaadba4becc\" type=\"checkbox\" checked><label for=\"622a48b0-8bad-44e8-b751-4eaadba4becc\" class=\"sk-toggleable__label sk-toggleable__label-arrow\">XGBClassifier</label><div class=\"sk-toggleable__content\"><pre>XGBClassifier(base_score=None, booster=None, callbacks=None,\n",
       "              colsample_bylevel=None, colsample_bynode=None,\n",
       "              colsample_bytree=None, early_stopping_rounds=None,\n",
       "              enable_categorical=False, eval_metric=None, feature_types=None,\n",
       "              gamma=None, gpu_id=None, grow_policy=None, importance_type=None,\n",
       "              interaction_constraints=None, learning_rate=None, max_bin=None,\n",
       "              max_cat_threshold=None, max_cat_to_onehot=None,\n",
       "              max_delta_step=None, max_depth=None, max_leaves=None,\n",
       "              min_child_weight=None, missing=nan, monotone_constraints=None,\n",
       "              n_estimators=100, n_jobs=None, num_parallel_tree=None,\n",
       "              predictor=None, random_state=None, ...)</pre></div></div></div></div></div>"
      ],
      "text/plain": [
       "XGBClassifier(base_score=None, booster=None, callbacks=None,\n",
       "              colsample_bylevel=None, colsample_bynode=None,\n",
       "              colsample_bytree=None, early_stopping_rounds=None,\n",
       "              enable_categorical=False, eval_metric=None, feature_types=None,\n",
       "              gamma=None, gpu_id=None, grow_policy=None, importance_type=None,\n",
       "              interaction_constraints=None, learning_rate=None, max_bin=None,\n",
       "              max_cat_threshold=None, max_cat_to_onehot=None,\n",
       "              max_delta_step=None, max_depth=None, max_leaves=None,\n",
       "              min_child_weight=None, missing=nan, monotone_constraints=None,\n",
       "              n_estimators=100, n_jobs=None, num_parallel_tree=None,\n",
       "              predictor=None, random_state=None, ...)"
      ]
     },
     "execution_count": 142,
     "metadata": {},
     "output_type": "execute_result"
    }
   ],
   "source": [
    "# Instantiate and fit gradient boosting classifier\n",
    "xgb = XGBClassifier()\n",
    "xgb.fit(X_train, y_train)"
   ]
  },
  {
   "cell_type": "code",
   "execution_count": 143,
   "id": "b75d04c9",
   "metadata": {},
   "outputs": [
    {
     "name": "stdout",
     "output_type": "stream",
     "text": [
      "Training accuracy: 0.9460570465958352\n",
      "Testing accuracy: 0.9353731220302672\n"
     ]
    }
   ],
   "source": [
    "print('Training accuracy:', xgb.score(X_train, y_train))\n",
    "print('Testing accuracy:', xgb.score(X_test, y_test))"
   ]
  },
  {
   "cell_type": "code",
   "execution_count": 144,
   "id": "d4d516ba",
   "metadata": {},
   "outputs": [],
   "source": [
    "xgb = xgb.predict(X_test)"
   ]
  },
  {
   "cell_type": "code",
   "execution_count": 145,
   "id": "6af2c5c0",
   "metadata": {},
   "outputs": [
    {
     "name": "stdout",
     "output_type": "stream",
     "text": [
      "[[46076  2477]\n",
      " [ 2229 22036]]\n"
     ]
    }
   ],
   "source": [
    "print(confusion_matrix(y_test,xgb))"
   ]
  },
  {
   "cell_type": "markdown",
   "id": "ae286eb0",
   "metadata": {},
   "source": [
    "#### Tenemos con este modelo:\n",
    "\n",
    "2477 Falso Positvo\n",
    "\n",
    "2229 Falso Negativo"
   ]
  },
  {
   "cell_type": "code",
   "execution_count": 146,
   "id": "98fd9646",
   "metadata": {},
   "outputs": [
    {
     "name": "stdout",
     "output_type": "stream",
     "text": [
      "              precision    recall  f1-score   support\n",
      "\n",
      "           0       0.95      0.95      0.95     48553\n",
      "           1       0.90      0.91      0.90     24265\n",
      "\n",
      "    accuracy                           0.94     72818\n",
      "   macro avg       0.93      0.93      0.93     72818\n",
      "weighted avg       0.94      0.94      0.94     72818\n",
      "\n"
     ]
    }
   ],
   "source": [
    "print(classification_report(y_test,xgb))"
   ]
  },
  {
   "cell_type": "code",
   "execution_count": 147,
   "id": "05b6dbcb",
   "metadata": {},
   "outputs": [
    {
     "name": "stdout",
     "output_type": "stream",
     "text": [
      "              precision    recall  f1-score   support\n",
      "\n",
      "           0       0.95      0.95      0.95     48553\n",
      "           1       0.90      0.91      0.90     24265\n",
      "\n",
      "    accuracy                           0.94     72818\n",
      "   macro avg       0.93      0.93      0.93     72818\n",
      "weighted avg       0.94      0.94      0.94     72818\n",
      "\n"
     ]
    }
   ],
   "source": [
    "print(classification_report(y_test,xgb))"
   ]
  },
  {
   "cell_type": "code",
   "execution_count": 148,
   "id": "514ff038",
   "metadata": {},
   "outputs": [
    {
     "data": {
      "text/plain": [
       "<Figure size 432x288 with 0 Axes>"
      ]
     },
     "metadata": {},
     "output_type": "display_data"
    },
    {
     "data": {
      "image/png": "[encoded data removed]",
      "text/plain": [
       "<Figure size 432x288 with 2 Axes>"
      ]
     },
     "metadata": {
      "needs_background": "light"
     },
     "output_type": "display_data"
    }
   ],
   "source": [
    "cm = confusion_matrix(y_test,xgb)\n",
    "disp = ConfusionMatrixDisplay(confusion_matrix=cm)\n",
    "plt.figure()\n",
    "disp.plot()\n",
    "plt.show()"
   ]
  },
  {
   "cell_type": "markdown",
   "id": "c47d7f05",
   "metadata": {},
   "source": [
    "# Deep Learning "
   ]
  },
  {
   "cell_type": "code",
   "execution_count": 149,
   "id": "dca1b9b9",
   "metadata": {},
   "outputs": [
    {
     "data": {
      "text/plain": [
       "(218453, 41)"
      ]
     },
     "execution_count": 149,
     "metadata": {},
     "output_type": "execute_result"
    }
   ],
   "source": [
    "X_train.shape"
   ]
  },
  {
   "cell_type": "code",
   "execution_count": 150,
   "id": "4f72808c",
   "metadata": {},
   "outputs": [
    {
     "data": {
      "text/plain": [
       "41"
      ]
     },
     "execution_count": 150,
     "metadata": {},
     "output_type": "execute_result"
    }
   ],
   "source": [
    "# Cuantas columnas \n",
    "input_shape = X_train.shape[1]\n",
    "input_shape"
   ]
  },
  {
   "cell_type": "code",
   "execution_count": 151,
   "id": "0a029435",
   "metadata": {},
   "outputs": [],
   "source": [
    "# Sequential model\n",
    "model = Sequential()"
   ]
  },
  {
   "cell_type": "code",
   "execution_count": 152,
   "id": "a2579db4",
   "metadata": {},
   "outputs": [
    {
     "name": "stdout",
     "output_type": "stream",
     "text": [
      "Epoch 1/50\n",
      "6827/6827 [==============================] - 18s 2ms/step - loss: 0.2550 - val_loss: 0.1599\n",
      "Epoch 2/50\n",
      "6827/6827 [==============================] - 16s 2ms/step - loss: 0.1815 - val_loss: 0.1565\n",
      "Epoch 3/50\n",
      "6827/6827 [==============================] - 15s 2ms/step - loss: 0.1734 - val_loss: 0.1561\n",
      "Epoch 4/50\n",
      "6827/6827 [==============================] - 16s 2ms/step - loss: 0.1699 - val_loss: 0.1537\n",
      "Epoch 5/50\n",
      "6827/6827 [==============================] - 15s 2ms/step - loss: 0.1687 - val_loss: 0.1562\n",
      "Epoch 6/50\n",
      "6827/6827 [==============================] - 16s 2ms/step - loss: 0.1665 - val_loss: 0.1543\n",
      "Epoch 7/50\n",
      "6827/6827 [==============================] - 17s 3ms/step - loss: 0.1657 - val_loss: 0.1564\n",
      "Epoch 8/50\n",
      "6827/6827 [==============================] - 19s 3ms/step - loss: 0.1647 - val_loss: 0.1535\n",
      "Epoch 9/50\n",
      "6827/6827 [==============================] - 23s 3ms/step - loss: 0.1643 - val_loss: 0.1536\n",
      "Epoch 10/50\n",
      "6827/6827 [==============================] - 17s 2ms/step - loss: 0.1634 - val_loss: 0.1534\n",
      "Epoch 11/50\n",
      "6827/6827 [==============================] - 16s 2ms/step - loss: 0.1630 - val_loss: 0.1540\n",
      "Epoch 12/50\n",
      "6827/6827 [==============================] - 17s 2ms/step - loss: 0.1631 - val_loss: 0.1583\n",
      "Epoch 13/50\n",
      "6827/6827 [==============================] - 16s 2ms/step - loss: 0.1617 - val_loss: 0.1577\n",
      "Epoch 14/50\n",
      "6827/6827 [==============================] - 15s 2ms/step - loss: 0.1617 - val_loss: 0.1530\n",
      "Epoch 15/50\n",
      "6827/6827 [==============================] - 17s 3ms/step - loss: 0.1610 - val_loss: 0.1612\n",
      "Epoch 16/50\n",
      "6827/6827 [==============================] - 16s 2ms/step - loss: 0.1612 - val_loss: 0.1548\n",
      "Epoch 17/50\n",
      "6827/6827 [==============================] - 17s 2ms/step - loss: 0.1608 - val_loss: 0.1546\n",
      "Epoch 18/50\n",
      "6827/6827 [==============================] - 26s 4ms/step - loss: 0.1612 - val_loss: 0.1602\n",
      "Epoch 19/50\n",
      "6827/6827 [==============================] - 23s 3ms/step - loss: 0.1609 - val_loss: 0.1556\n",
      "Epoch 20/50\n",
      "6827/6827 [==============================] - 42s 6ms/step - loss: 0.1604 - val_loss: 0.1577\n",
      "Epoch 21/50\n",
      "6827/6827 [==============================] - 40s 6ms/step - loss: 0.1602 - val_loss: 0.1562\n",
      "Epoch 22/50\n",
      "6827/6827 [==============================] - 34s 5ms/step - loss: 0.1605 - val_loss: 0.1527\n",
      "Epoch 23/50\n",
      "6827/6827 [==============================] - 22s 3ms/step - loss: 0.1600 - val_loss: 0.1555\n",
      "Epoch 24/50\n",
      "6827/6827 [==============================] - 24s 3ms/step - loss: 0.1604 - val_loss: 0.1553\n",
      "Epoch 25/50\n",
      "6827/6827 [==============================] - 21s 3ms/step - loss: 0.1604 - val_loss: 0.1574\n",
      "Epoch 26/50\n",
      "6827/6827 [==============================] - 25s 4ms/step - loss: 0.1594 - val_loss: 0.1551\n",
      "Epoch 27/50\n",
      "6827/6827 [==============================] - 34s 5ms/step - loss: 0.1597 - val_loss: 0.1543\n",
      "Epoch 28/50\n",
      "6827/6827 [==============================] - 21s 3ms/step - loss: 0.1592 - val_loss: 0.1572\n",
      "Epoch 29/50\n",
      "6827/6827 [==============================] - 22s 3ms/step - loss: 0.1595 - val_loss: 0.1541\n",
      "Epoch 30/50\n",
      "6827/6827 [==============================] - 28s 4ms/step - loss: 0.1595 - val_loss: 0.1534\n",
      "Epoch 31/50\n",
      "6827/6827 [==============================] - 17s 2ms/step - loss: 0.1594 - val_loss: 0.1540\n",
      "Epoch 32/50\n",
      "6827/6827 [==============================] - 19s 3ms/step - loss: 0.1589 - val_loss: 0.1541\n",
      "Epoch 33/50\n",
      "6827/6827 [==============================] - 20s 3ms/step - loss: 0.1591 - val_loss: 0.1581\n",
      "Epoch 34/50\n",
      "6827/6827 [==============================] - 20s 3ms/step - loss: 0.1586 - val_loss: 0.1544\n",
      "Epoch 35/50\n",
      "6827/6827 [==============================] - 19s 3ms/step - loss: 0.1584 - val_loss: 0.1520\n",
      "Epoch 36/50\n",
      "6827/6827 [==============================] - 39s 6ms/step - loss: 0.1586 - val_loss: 0.1577\n",
      "Epoch 37/50\n",
      "6827/6827 [==============================] - 19s 3ms/step - loss: 0.1587 - val_loss: 0.1569\n",
      "Epoch 38/50\n",
      "6827/6827 [==============================] - 18s 3ms/step - loss: 0.1587 - val_loss: 0.1554\n",
      "Epoch 39/50\n",
      "6827/6827 [==============================] - 17s 3ms/step - loss: 0.1587 - val_loss: 0.1565\n",
      "Epoch 40/50\n",
      "6827/6827 [==============================] - 17s 2ms/step - loss: 0.1586 - val_loss: 0.1565\n",
      "Epoch 41/50\n",
      "6827/6827 [==============================] - 18s 3ms/step - loss: 0.1588 - val_loss: 0.1572\n",
      "Epoch 42/50\n",
      "6827/6827 [==============================] - 19s 3ms/step - loss: 0.1586 - val_loss: 0.1584\n",
      "Epoch 43/50\n",
      "6827/6827 [==============================] - 17s 3ms/step - loss: 0.1582 - val_loss: 0.1545\n",
      "Epoch 44/50\n",
      "6827/6827 [==============================] - 17s 2ms/step - loss: 0.1582 - val_loss: 0.1550\n",
      "Epoch 45/50\n",
      "6827/6827 [==============================] - 30s 4ms/step - loss: 0.1582 - val_loss: 0.1532\n",
      "Epoch 46/50\n",
      "6827/6827 [==============================] - 19s 3ms/step - loss: 0.1579 - val_loss: 0.1552\n",
      "Epoch 47/50\n",
      "6827/6827 [==============================] - 17s 3ms/step - loss: 0.1576 - val_loss: 0.1547\n",
      "Epoch 48/50\n",
      "6827/6827 [==============================] - 18s 3ms/step - loss: 0.1582 - val_loss: 0.1572\n",
      "Epoch 49/50\n",
      "6827/6827 [==============================] - 20s 3ms/step - loss: 0.1578 - val_loss: 0.1549\n",
      "Epoch 50/50\n",
      "6827/6827 [==============================] - 18s 3ms/step - loss: 0.1580 - val_loss: 0.1565\n"
     ]
    }
   ],
   "source": [
    "model.add(Dense(41, # How many neurons you have in your first hidden layer\n",
    "                input_dim = input_shape, # What is the shape of your input features (number of columns)\n",
    "                activation = 'relu')) # What activation function are you using?\n",
    "model.add(Dropout(.2))\n",
    "model.add(Dense(25, \n",
    "                activation = 'relu'))\n",
    "model.add(Dropout(0.2))\n",
    "model.add(Dense(1, activation = 'sigmoid'))\n",
    "model.compile(loss = 'bce', optimizer = 'adam')\n",
    "history = model.fit(X_train, y_train,\n",
    "                    validation_data = (X_test, y_test), \n",
    "                    epochs=50)"
   ]
  },
  {
   "cell_type": "code",
   "execution_count": 153,
   "id": "aa79bd57",
   "metadata": {},
   "outputs": [
    {
     "data": {
      "image/png": "[encoded data removed]",
      "text/plain": [
       "<Figure size 432x288 with 1 Axes>"
      ]
     },
     "metadata": {
      "needs_background": "light"
     },
     "output_type": "display_data"
    }
   ],
   "source": [
    "# Visualize the loss\n",
    "plt.plot(history.history['loss'], label='Train loss')\n",
    "plt.plot(history.history['val_loss'], label='Test Loss')\n",
    "plt.legend();"
   ]
  },
  {
   "cell_type": "code",
   "execution_count": 154,
   "id": "b18ad7bc",
   "metadata": {},
   "outputs": [
    {
     "name": "stdout",
     "output_type": "stream",
     "text": [
      "2276/2276 [==============================] - 3s 1ms/step\n",
      "              precision    recall  f1-score   support\n",
      "\n",
      "           0       0.96      0.94      0.95     48553\n",
      "           1       0.88      0.92      0.90     24265\n",
      "\n",
      "    accuracy                           0.93     72818\n",
      "   macro avg       0.92      0.93      0.93     72818\n",
      "weighted avg       0.93      0.93      0.93     72818\n",
      "\n"
     ]
    }
   ],
   "source": [
    "predictions = model.predict(X_test)\n",
    "predictions = np.round(predictions)\n",
    "print(classification_report(y_test,predictions))"
   ]
  },
  {
   "cell_type": "code",
   "execution_count": 155,
   "id": "15c407ff",
   "metadata": {},
   "outputs": [
    {
     "data": {
      "image/png": "[encoded data removed]",
      "text/plain": [
       "<Figure size 432x288 with 2 Axes>"
      ]
     },
     "metadata": {
      "needs_background": "light"
     },
     "output_type": "display_data"
    },
    {
     "data": {
      "text/plain": [
       "<Figure size 576x576 with 0 Axes>"
      ]
     },
     "metadata": {},
     "output_type": "display_data"
    }
   ],
   "source": [
    "cm = confusion_matrix(y_test, predictions)\n",
    "disp = ConfusionMatrixDisplay(confusion_matrix=cm)\n",
    "disp.plot()\n",
    "plt.figure(figsize=(8, 8))\n",
    "plt.show()"
   ]
  },
  {
   "cell_type": "markdown",
   "id": "dccb3039",
   "metadata": {},
   "source": [
    "# Valores con test"
   ]
  },
  {
   "cell_type": "markdown",
   "id": "71df187e",
   "metadata": {},
   "source": [
    "### Nuevas Predicciones"
   ]
  },
  {
   "cell_type": "code",
   "execution_count": 156,
   "id": "62fec6dd",
   "metadata": {},
   "outputs": [
    {
     "data": {
      "text/html": [
       "<div>\n",
       "<style scoped>\n",
       "    .dataframe tbody tr th:only-of-type {\n",
       "        vertical-align: middle;\n",
       "    }\n",
       "\n",
       "    .dataframe tbody tr th {\n",
       "        vertical-align: top;\n",
       "    }\n",
       "\n",
       "    .dataframe thead th {\n",
       "        text-align: right;\n",
       "    }\n",
       "</style>\n",
       "<table border=\"1\" class=\"dataframe\">\n",
       "  <thead>\n",
       "    <tr style=\"text-align: right;\">\n",
       "      <th></th>\n",
       "      <th>uid</th>\n",
       "      <th>sz_top</th>\n",
       "      <th>sz_bot</th>\n",
       "      <th>pitch_type</th>\n",
       "      <th>release_pos_x</th>\n",
       "      <th>release_pos_y</th>\n",
       "      <th>release_pos_z</th>\n",
       "      <th>stand</th>\n",
       "      <th>p_throws</th>\n",
       "      <th>inning</th>\n",
       "      <th>...</th>\n",
       "      <th>on_2b</th>\n",
       "      <th>on_1b</th>\n",
       "      <th>release_speed</th>\n",
       "      <th>spin_axis</th>\n",
       "      <th>release_spin_rate</th>\n",
       "      <th>pfx_x</th>\n",
       "      <th>pfx_z</th>\n",
       "      <th>plate_x</th>\n",
       "      <th>plate_z</th>\n",
       "      <th>is_strike</th>\n",
       "    </tr>\n",
       "  </thead>\n",
       "  <tbody>\n",
       "    <tr>\n",
       "      <th>0</th>\n",
       "      <td>122428</td>\n",
       "      <td>3.06</td>\n",
       "      <td>1.55</td>\n",
       "      <td>SI</td>\n",
       "      <td>-1.90</td>\n",
       "      <td>54.31</td>\n",
       "      <td>6.59</td>\n",
       "      <td>L</td>\n",
       "      <td>R</td>\n",
       "      <td>1</td>\n",
       "      <td>...</td>\n",
       "      <td>False</td>\n",
       "      <td>False</td>\n",
       "      <td>93.8</td>\n",
       "      <td>202</td>\n",
       "      <td>2333</td>\n",
       "      <td>-1.10</td>\n",
       "      <td>1.05</td>\n",
       "      <td>0.99</td>\n",
       "      <td>2.19</td>\n",
       "      <td>1</td>\n",
       "    </tr>\n",
       "    <tr>\n",
       "      <th>1</th>\n",
       "      <td>291855</td>\n",
       "      <td>3.29</td>\n",
       "      <td>1.56</td>\n",
       "      <td>FC</td>\n",
       "      <td>2.68</td>\n",
       "      <td>53.84</td>\n",
       "      <td>5.67</td>\n",
       "      <td>R</td>\n",
       "      <td>L</td>\n",
       "      <td>4</td>\n",
       "      <td>...</td>\n",
       "      <td>False</td>\n",
       "      <td>False</td>\n",
       "      <td>88.5</td>\n",
       "      <td>153</td>\n",
       "      <td>2068</td>\n",
       "      <td>-0.14</td>\n",
       "      <td>0.80</td>\n",
       "      <td>0.16</td>\n",
       "      <td>3.06</td>\n",
       "      <td>1</td>\n",
       "    </tr>\n",
       "    <tr>\n",
       "      <th>2</th>\n",
       "      <td>225539</td>\n",
       "      <td>3.62</td>\n",
       "      <td>1.69</td>\n",
       "      <td>CH</td>\n",
       "      <td>-1.17</td>\n",
       "      <td>54.73</td>\n",
       "      <td>6.94</td>\n",
       "      <td>L</td>\n",
       "      <td>R</td>\n",
       "      <td>4</td>\n",
       "      <td>...</td>\n",
       "      <td>False</td>\n",
       "      <td>False</td>\n",
       "      <td>78.5</td>\n",
       "      <td>221</td>\n",
       "      <td>1609</td>\n",
       "      <td>-0.73</td>\n",
       "      <td>0.62</td>\n",
       "      <td>-0.05</td>\n",
       "      <td>2.45</td>\n",
       "      <td>1</td>\n",
       "    </tr>\n",
       "    <tr>\n",
       "      <th>3</th>\n",
       "      <td>1410</td>\n",
       "      <td>3.42</td>\n",
       "      <td>1.71</td>\n",
       "      <td>FF</td>\n",
       "      <td>-1.41</td>\n",
       "      <td>54.33</td>\n",
       "      <td>5.98</td>\n",
       "      <td>R</td>\n",
       "      <td>R</td>\n",
       "      <td>6</td>\n",
       "      <td>...</td>\n",
       "      <td>False</td>\n",
       "      <td>False</td>\n",
       "      <td>94.0</td>\n",
       "      <td>220</td>\n",
       "      <td>2265</td>\n",
       "      <td>-0.69</td>\n",
       "      <td>1.33</td>\n",
       "      <td>1.30</td>\n",
       "      <td>2.24</td>\n",
       "      <td>0</td>\n",
       "    </tr>\n",
       "    <tr>\n",
       "      <th>4</th>\n",
       "      <td>256048</td>\n",
       "      <td>3.14</td>\n",
       "      <td>1.42</td>\n",
       "      <td>FF</td>\n",
       "      <td>3.77</td>\n",
       "      <td>53.53</td>\n",
       "      <td>3.40</td>\n",
       "      <td>R</td>\n",
       "      <td>L</td>\n",
       "      <td>7</td>\n",
       "      <td>...</td>\n",
       "      <td>False</td>\n",
       "      <td>True</td>\n",
       "      <td>90.8</td>\n",
       "      <td>100</td>\n",
       "      <td>2158</td>\n",
       "      <td>1.56</td>\n",
       "      <td>0.60</td>\n",
       "      <td>-0.18</td>\n",
       "      <td>3.76</td>\n",
       "      <td>0</td>\n",
       "    </tr>\n",
       "  </tbody>\n",
       "</table>\n",
       "<p>5 rows × 27 columns</p>\n",
       "</div>"
      ],
      "text/plain": [
       "      uid  sz_top  sz_bot pitch_type  release_pos_x  release_pos_y  \\\n",
       "0  122428    3.06    1.55         SI          -1.90          54.31   \n",
       "1  291855    3.29    1.56         FC           2.68          53.84   \n",
       "2  225539    3.62    1.69         CH          -1.17          54.73   \n",
       "3    1410    3.42    1.71         FF          -1.41          54.33   \n",
       "4  256048    3.14    1.42         FF           3.77          53.53   \n",
       "\n",
       "   release_pos_z stand p_throws  inning  ...  on_2b  on_1b  release_speed  \\\n",
       "0           6.59     L        R       1  ...  False  False           93.8   \n",
       "1           5.67     R        L       4  ...  False  False           88.5   \n",
       "2           6.94     L        R       4  ...  False  False           78.5   \n",
       "3           5.98     R        R       6  ...  False  False           94.0   \n",
       "4           3.40     R        L       7  ...  False   True           90.8   \n",
       "\n",
       "   spin_axis release_spin_rate pfx_x  pfx_z  plate_x  plate_z  is_strike  \n",
       "0        202              2333 -1.10   1.05     0.99     2.19          1  \n",
       "1        153              2068 -0.14   0.80     0.16     3.06          1  \n",
       "2        221              1609 -0.73   0.62    -0.05     2.45          1  \n",
       "3        220              2265 -0.69   1.33     1.30     2.24          0  \n",
       "4        100              2158  1.56   0.60    -0.18     3.76          0  \n",
       "\n",
       "[5 rows x 27 columns]"
      ]
     },
     "execution_count": 156,
     "metadata": {},
     "output_type": "execute_result"
    }
   ],
   "source": [
    "X = pd.read_csv(\"test.csv\")\n",
    "X .head()\n",
    "#el punto es como funciona con data nueva que no ha visto"
   ]
  },
  {
   "cell_type": "code",
   "execution_count": 157,
   "id": "591a344d",
   "metadata": {},
   "outputs": [
    {
     "data": {
      "text/plain": [
       "0    13417\n",
       "1     6583\n",
       "Name: is_strike, dtype: int64"
      ]
     },
     "execution_count": 157,
     "metadata": {},
     "output_type": "execute_result"
    }
   ],
   "source": [
    "X['is_strike'].value_counts()"
   ]
  },
  {
   "cell_type": "code",
   "execution_count": 158,
   "id": "6e182007",
   "metadata": {},
   "outputs": [
    {
     "name": "stdout",
     "output_type": "stream",
     "text": [
      "<class 'pandas.core.frame.DataFrame'>\n",
      "RangeIndex: 291271 entries, 0 to 291270\n",
      "Data columns (total 27 columns):\n",
      " #   Column                 Non-Null Count   Dtype  \n",
      "---  ------                 --------------   -----  \n",
      " 0   uid                    291271 non-null  int64  \n",
      " 1   sz_top                 291271 non-null  float64\n",
      " 2   sz_bot                 291271 non-null  float64\n",
      " 3   pitch_type             291271 non-null  object \n",
      " 4   release_pos_x          291271 non-null  float64\n",
      " 5   release_pos_y          291271 non-null  float64\n",
      " 6   release_pos_z          291271 non-null  float64\n",
      " 7   stand                  291271 non-null  object \n",
      " 8   p_throws               291271 non-null  object \n",
      " 9   inning                 291271 non-null  int64  \n",
      " 10  inning_topbot          291271 non-null  object \n",
      " 11  outs_when_up           291271 non-null  int64  \n",
      " 12  balls                  291271 non-null  int64  \n",
      " 13  strikes                291271 non-null  int64  \n",
      " 14  if_fielding_alignment  291271 non-null  object \n",
      " 15  of_fielding_alignment  291271 non-null  object \n",
      " 16  on_3b                  291271 non-null  bool   \n",
      " 17  on_2b                  291271 non-null  bool   \n",
      " 18  on_1b                  291271 non-null  bool   \n",
      " 19  release_speed          291271 non-null  float64\n",
      " 20  spin_axis              291271 non-null  int64  \n",
      " 21  release_spin_rate      291271 non-null  int64  \n",
      " 22  pfx_x                  291271 non-null  float64\n",
      " 23  pfx_z                  291271 non-null  float64\n",
      " 24  plate_x                291271 non-null  float64\n",
      " 25  plate_z                291271 non-null  float64\n",
      " 26  is_strike              291271 non-null  int64  \n",
      "dtypes: bool(3), float64(10), int64(8), object(6)\n",
      "memory usage: 54.2+ MB\n"
     ]
    }
   ],
   "source": [
    "df.info()"
   ]
  },
  {
   "cell_type": "code",
   "execution_count": 159,
   "id": "2cdf9c04",
   "metadata": {},
   "outputs": [
    {
     "name": "stdout",
     "output_type": "stream",
     "text": [
      "<class 'pandas.core.frame.DataFrame'>\n",
      "RangeIndex: 20000 entries, 0 to 19999\n",
      "Data columns (total 27 columns):\n",
      " #   Column                 Non-Null Count  Dtype  \n",
      "---  ------                 --------------  -----  \n",
      " 0   uid                    20000 non-null  int64  \n",
      " 1   sz_top                 20000 non-null  float64\n",
      " 2   sz_bot                 20000 non-null  float64\n",
      " 3   pitch_type             20000 non-null  object \n",
      " 4   release_pos_x          20000 non-null  float64\n",
      " 5   release_pos_y          20000 non-null  float64\n",
      " 6   release_pos_z          20000 non-null  float64\n",
      " 7   stand                  20000 non-null  object \n",
      " 8   p_throws               20000 non-null  object \n",
      " 9   inning                 20000 non-null  int64  \n",
      " 10  inning_topbot          20000 non-null  object \n",
      " 11  outs_when_up           20000 non-null  int64  \n",
      " 12  balls                  20000 non-null  int64  \n",
      " 13  strikes                20000 non-null  int64  \n",
      " 14  if_fielding_alignment  20000 non-null  object \n",
      " 15  of_fielding_alignment  20000 non-null  object \n",
      " 16  on_3b                  20000 non-null  bool   \n",
      " 17  on_2b                  20000 non-null  bool   \n",
      " 18  on_1b                  20000 non-null  bool   \n",
      " 19  release_speed          20000 non-null  float64\n",
      " 20  spin_axis              20000 non-null  int64  \n",
      " 21  release_spin_rate      20000 non-null  int64  \n",
      " 22  pfx_x                  20000 non-null  float64\n",
      " 23  pfx_z                  20000 non-null  float64\n",
      " 24  plate_x                20000 non-null  float64\n",
      " 25  plate_z                20000 non-null  float64\n",
      " 26  is_strike              20000 non-null  int64  \n",
      "dtypes: bool(3), float64(10), int64(8), object(6)\n",
      "memory usage: 3.7+ MB\n"
     ]
    }
   ],
   "source": [
    "X.info()"
   ]
  },
  {
   "cell_type": "markdown",
   "id": "df8d2a6a",
   "metadata": {},
   "source": [
    "## Escalar y hot encoding igual, todo lo que hice para esto."
   ]
  },
  {
   "cell_type": "code",
   "execution_count": 160,
   "id": "2ac29b6f",
   "metadata": {},
   "outputs": [],
   "source": [
    "X = X.drop(columns=['is_strike'])"
   ]
  },
  {
   "cell_type": "code",
   "execution_count": 161,
   "id": "5af17ed1",
   "metadata": {},
   "outputs": [
    {
     "data": {
      "text/html": [
       "<div>\n",
       "<style scoped>\n",
       "    .dataframe tbody tr th:only-of-type {\n",
       "        vertical-align: middle;\n",
       "    }\n",
       "\n",
       "    .dataframe tbody tr th {\n",
       "        vertical-align: top;\n",
       "    }\n",
       "\n",
       "    .dataframe thead th {\n",
       "        text-align: right;\n",
       "    }\n",
       "</style>\n",
       "<table border=\"1\" class=\"dataframe\">\n",
       "  <thead>\n",
       "    <tr style=\"text-align: right;\">\n",
       "      <th></th>\n",
       "      <th>uid</th>\n",
       "      <th>sz_top</th>\n",
       "      <th>sz_bot</th>\n",
       "      <th>pitch_type</th>\n",
       "      <th>release_pos_x</th>\n",
       "      <th>release_pos_y</th>\n",
       "      <th>release_pos_z</th>\n",
       "      <th>stand</th>\n",
       "      <th>p_throws</th>\n",
       "      <th>inning</th>\n",
       "      <th>...</th>\n",
       "      <th>on_3b</th>\n",
       "      <th>on_2b</th>\n",
       "      <th>on_1b</th>\n",
       "      <th>release_speed</th>\n",
       "      <th>spin_axis</th>\n",
       "      <th>release_spin_rate</th>\n",
       "      <th>pfx_x</th>\n",
       "      <th>pfx_z</th>\n",
       "      <th>plate_x</th>\n",
       "      <th>plate_z</th>\n",
       "    </tr>\n",
       "  </thead>\n",
       "  <tbody>\n",
       "    <tr>\n",
       "      <th>0</th>\n",
       "      <td>122428</td>\n",
       "      <td>3.06</td>\n",
       "      <td>1.55</td>\n",
       "      <td>SI</td>\n",
       "      <td>-1.90</td>\n",
       "      <td>54.31</td>\n",
       "      <td>6.59</td>\n",
       "      <td>L</td>\n",
       "      <td>R</td>\n",
       "      <td>1</td>\n",
       "      <td>...</td>\n",
       "      <td>False</td>\n",
       "      <td>False</td>\n",
       "      <td>False</td>\n",
       "      <td>93.8</td>\n",
       "      <td>202</td>\n",
       "      <td>2333</td>\n",
       "      <td>-1.10</td>\n",
       "      <td>1.05</td>\n",
       "      <td>0.99</td>\n",
       "      <td>2.19</td>\n",
       "    </tr>\n",
       "    <tr>\n",
       "      <th>1</th>\n",
       "      <td>291855</td>\n",
       "      <td>3.29</td>\n",
       "      <td>1.56</td>\n",
       "      <td>FC</td>\n",
       "      <td>2.68</td>\n",
       "      <td>53.84</td>\n",
       "      <td>5.67</td>\n",
       "      <td>R</td>\n",
       "      <td>L</td>\n",
       "      <td>4</td>\n",
       "      <td>...</td>\n",
       "      <td>False</td>\n",
       "      <td>False</td>\n",
       "      <td>False</td>\n",
       "      <td>88.5</td>\n",
       "      <td>153</td>\n",
       "      <td>2068</td>\n",
       "      <td>-0.14</td>\n",
       "      <td>0.80</td>\n",
       "      <td>0.16</td>\n",
       "      <td>3.06</td>\n",
       "    </tr>\n",
       "    <tr>\n",
       "      <th>2</th>\n",
       "      <td>225539</td>\n",
       "      <td>3.62</td>\n",
       "      <td>1.69</td>\n",
       "      <td>CH</td>\n",
       "      <td>-1.17</td>\n",
       "      <td>54.73</td>\n",
       "      <td>6.94</td>\n",
       "      <td>L</td>\n",
       "      <td>R</td>\n",
       "      <td>4</td>\n",
       "      <td>...</td>\n",
       "      <td>False</td>\n",
       "      <td>False</td>\n",
       "      <td>False</td>\n",
       "      <td>78.5</td>\n",
       "      <td>221</td>\n",
       "      <td>1609</td>\n",
       "      <td>-0.73</td>\n",
       "      <td>0.62</td>\n",
       "      <td>-0.05</td>\n",
       "      <td>2.45</td>\n",
       "    </tr>\n",
       "    <tr>\n",
       "      <th>3</th>\n",
       "      <td>1410</td>\n",
       "      <td>3.42</td>\n",
       "      <td>1.71</td>\n",
       "      <td>FF</td>\n",
       "      <td>-1.41</td>\n",
       "      <td>54.33</td>\n",
       "      <td>5.98</td>\n",
       "      <td>R</td>\n",
       "      <td>R</td>\n",
       "      <td>6</td>\n",
       "      <td>...</td>\n",
       "      <td>False</td>\n",
       "      <td>False</td>\n",
       "      <td>False</td>\n",
       "      <td>94.0</td>\n",
       "      <td>220</td>\n",
       "      <td>2265</td>\n",
       "      <td>-0.69</td>\n",
       "      <td>1.33</td>\n",
       "      <td>1.30</td>\n",
       "      <td>2.24</td>\n",
       "    </tr>\n",
       "    <tr>\n",
       "      <th>4</th>\n",
       "      <td>256048</td>\n",
       "      <td>3.14</td>\n",
       "      <td>1.42</td>\n",
       "      <td>FF</td>\n",
       "      <td>3.77</td>\n",
       "      <td>53.53</td>\n",
       "      <td>3.40</td>\n",
       "      <td>R</td>\n",
       "      <td>L</td>\n",
       "      <td>7</td>\n",
       "      <td>...</td>\n",
       "      <td>False</td>\n",
       "      <td>False</td>\n",
       "      <td>True</td>\n",
       "      <td>90.8</td>\n",
       "      <td>100</td>\n",
       "      <td>2158</td>\n",
       "      <td>1.56</td>\n",
       "      <td>0.60</td>\n",
       "      <td>-0.18</td>\n",
       "      <td>3.76</td>\n",
       "    </tr>\n",
       "  </tbody>\n",
       "</table>\n",
       "<p>5 rows × 26 columns</p>\n",
       "</div>"
      ],
      "text/plain": [
       "      uid  sz_top  sz_bot pitch_type  release_pos_x  release_pos_y  \\\n",
       "0  122428    3.06    1.55         SI          -1.90          54.31   \n",
       "1  291855    3.29    1.56         FC           2.68          53.84   \n",
       "2  225539    3.62    1.69         CH          -1.17          54.73   \n",
       "3    1410    3.42    1.71         FF          -1.41          54.33   \n",
       "4  256048    3.14    1.42         FF           3.77          53.53   \n",
       "\n",
       "   release_pos_z stand p_throws  inning  ...  on_3b  on_2b  on_1b  \\\n",
       "0           6.59     L        R       1  ...  False  False  False   \n",
       "1           5.67     R        L       4  ...  False  False  False   \n",
       "2           6.94     L        R       4  ...  False  False  False   \n",
       "3           5.98     R        R       6  ...  False  False  False   \n",
       "4           3.40     R        L       7  ...  False  False   True   \n",
       "\n",
       "   release_speed spin_axis release_spin_rate  pfx_x  pfx_z  plate_x  plate_z  \n",
       "0           93.8       202              2333  -1.10   1.05     0.99     2.19  \n",
       "1           88.5       153              2068  -0.14   0.80     0.16     3.06  \n",
       "2           78.5       221              1609  -0.73   0.62    -0.05     2.45  \n",
       "3           94.0       220              2265  -0.69   1.33     1.30     2.24  \n",
       "4           90.8       100              2158   1.56   0.60    -0.18     3.76  \n",
       "\n",
       "[5 rows x 26 columns]"
      ]
     },
     "execution_count": 161,
     "metadata": {},
     "output_type": "execute_result"
    }
   ],
   "source": [
    "X.head()"
   ]
  },
  {
   "cell_type": "code",
   "execution_count": 162,
   "id": "ee14d921",
   "metadata": {},
   "outputs": [
    {
     "name": "stdout",
     "output_type": "stream",
     "text": [
      "0 missing values\n"
     ]
    }
   ],
   "source": [
    "print(X.isna().sum().sum(), 'missing values')"
   ]
  },
  {
   "cell_type": "code",
   "execution_count": 163,
   "id": "2cd5d7e4",
   "metadata": {},
   "outputs": [],
   "source": [
    "# Selectors\n",
    "cat_selector = make_column_selector(dtype_include='object')\n",
    "num_selector = make_column_selector(dtype_include='number')"
   ]
  },
  {
   "cell_type": "code",
   "execution_count": 164,
   "id": "ff24644f",
   "metadata": {},
   "outputs": [],
   "source": [
    "\n",
    "# Scaler\n",
    "scaler = StandardScaler()\n",
    "# One-hot encoder\n",
    "ohe = OneHotEncoder(handle_unknown='ignore', sparse=False)"
   ]
  },
  {
   "cell_type": "code",
   "execution_count": 165,
   "id": "b34baba9",
   "metadata": {},
   "outputs": [
    {
     "data": {
      "text/html": [
       "<style>#sk-f1940231-a054-4768-88c7-6a9057c60e71 {color: black;background-color: white;}#sk-f1940231-a054-4768-88c7-6a9057c60e71 pre{padding: 0;}#sk-f1940231-a054-4768-88c7-6a9057c60e71 div.sk-toggleable {background-color: white;}#sk-f1940231-a054-4768-88c7-6a9057c60e71 label.sk-toggleable__label {cursor: pointer;display: block;width: 100%;margin-bottom: 0;padding: 0.3em;box-sizing: border-box;text-align: center;}#sk-f1940231-a054-4768-88c7-6a9057c60e71 label.sk-toggleable__label-arrow:before {content: \"▸\";float: left;margin-right: 0.25em;color: #696969;}#sk-f1940231-a054-4768-88c7-6a9057c60e71 label.sk-toggleable__label-arrow:hover:before {color: black;}#sk-f1940231-a054-4768-88c7-6a9057c60e71 div.sk-estimator:hover label.sk-toggleable__label-arrow:before {color: black;}#sk-f1940231-a054-4768-88c7-6a9057c60e71 div.sk-toggleable__content {max-height: 0;max-width: 0;overflow: hidden;text-align: left;background-color: #f0f8ff;}#sk-f1940231-a054-4768-88c7-6a9057c60e71 div.sk-toggleable__content pre {margin: 0.2em;color: black;border-radius: 0.25em;background-color: #f0f8ff;}#sk-f1940231-a054-4768-88c7-6a9057c60e71 input.sk-toggleable__control:checked~div.sk-toggleable__content {max-height: 200px;max-width: 100%;overflow: auto;}#sk-f1940231-a054-4768-88c7-6a9057c60e71 input.sk-toggleable__control:checked~label.sk-toggleable__label-arrow:before {content: \"▾\";}#sk-f1940231-a054-4768-88c7-6a9057c60e71 div.sk-estimator input.sk-toggleable__control:checked~label.sk-toggleable__label {background-color: #d4ebff;}#sk-f1940231-a054-4768-88c7-6a9057c60e71 div.sk-label input.sk-toggleable__control:checked~label.sk-toggleable__label {background-color: #d4ebff;}#sk-f1940231-a054-4768-88c7-6a9057c60e71 input.sk-hidden--visually {border: 0;clip: rect(1px 1px 1px 1px);clip: rect(1px, 1px, 1px, 1px);height: 1px;margin: -1px;overflow: hidden;padding: 0;position: absolute;width: 1px;}#sk-f1940231-a054-4768-88c7-6a9057c60e71 div.sk-estimator {font-family: monospace;background-color: #f0f8ff;border: 1px dotted black;border-radius: 0.25em;box-sizing: border-box;margin-bottom: 0.5em;}#sk-f1940231-a054-4768-88c7-6a9057c60e71 div.sk-estimator:hover {background-color: #d4ebff;}#sk-f1940231-a054-4768-88c7-6a9057c60e71 div.sk-parallel-item::after {content: \"\";width: 100%;border-bottom: 1px solid gray;flex-grow: 1;}#sk-f1940231-a054-4768-88c7-6a9057c60e71 div.sk-label:hover label.sk-toggleable__label {background-color: #d4ebff;}#sk-f1940231-a054-4768-88c7-6a9057c60e71 div.sk-serial::before {content: \"\";position: absolute;border-left: 1px solid gray;box-sizing: border-box;top: 2em;bottom: 0;left: 50%;}#sk-f1940231-a054-4768-88c7-6a9057c60e71 div.sk-serial {display: flex;flex-direction: column;align-items: center;background-color: white;padding-right: 0.2em;padding-left: 0.2em;}#sk-f1940231-a054-4768-88c7-6a9057c60e71 div.sk-item {z-index: 1;}#sk-f1940231-a054-4768-88c7-6a9057c60e71 div.sk-parallel {display: flex;align-items: stretch;justify-content: center;background-color: white;}#sk-f1940231-a054-4768-88c7-6a9057c60e71 div.sk-parallel::before {content: \"\";position: absolute;border-left: 1px solid gray;box-sizing: border-box;top: 2em;bottom: 0;left: 50%;}#sk-f1940231-a054-4768-88c7-6a9057c60e71 div.sk-parallel-item {display: flex;flex-direction: column;position: relative;background-color: white;}#sk-f1940231-a054-4768-88c7-6a9057c60e71 div.sk-parallel-item:first-child::after {align-self: flex-end;width: 50%;}#sk-f1940231-a054-4768-88c7-6a9057c60e71 div.sk-parallel-item:last-child::after {align-self: flex-start;width: 50%;}#sk-f1940231-a054-4768-88c7-6a9057c60e71 div.sk-parallel-item:only-child::after {width: 0;}#sk-f1940231-a054-4768-88c7-6a9057c60e71 div.sk-dashed-wrapped {border: 1px dashed gray;margin: 0 0.4em 0.5em 0.4em;box-sizing: border-box;padding-bottom: 0.4em;background-color: white;position: relative;}#sk-f1940231-a054-4768-88c7-6a9057c60e71 div.sk-label label {font-family: monospace;font-weight: bold;background-color: white;display: inline-block;line-height: 1.2em;}#sk-f1940231-a054-4768-88c7-6a9057c60e71 div.sk-label-container {position: relative;z-index: 2;text-align: center;}#sk-f1940231-a054-4768-88c7-6a9057c60e71 div.sk-container {/* jupyter's `normalize.less` sets `[hidden] { display: none; }` but bootstrap.min.css set `[hidden] { display: none !important; }` so we also need the `!important` here to be able to override the default hidden behavior on the sphinx rendered scikit-learn.org. See: https://github.com/scikit-learn/scikit-learn/issues/21755 */display: inline-block !important;position: relative;}#sk-f1940231-a054-4768-88c7-6a9057c60e71 div.sk-text-repr-fallback {display: none;}</style><div id=\"sk-f1940231-a054-4768-88c7-6a9057c60e71\" class=\"sk-top-container\"><div class=\"sk-text-repr-fallback\"><pre>Pipeline(steps=[(&#x27;standardscaler&#x27;, StandardScaler())])</pre><b>Please rerun this cell to show the HTML repr or trust the notebook.</b></div><div class=\"sk-container\" hidden><div class=\"sk-item sk-dashed-wrapped\"><div class=\"sk-label-container\"><div class=\"sk-label sk-toggleable\"><input class=\"sk-toggleable__control sk-hidden--visually\" id=\"bbbb8272-23b1-435e-a99b-fbf5f2eff685\" type=\"checkbox\" ><label for=\"bbbb8272-23b1-435e-a99b-fbf5f2eff685\" class=\"sk-toggleable__label sk-toggleable__label-arrow\">Pipeline</label><div class=\"sk-toggleable__content\"><pre>Pipeline(steps=[(&#x27;standardscaler&#x27;, StandardScaler())])</pre></div></div></div><div class=\"sk-serial\"><div class=\"sk-item\"><div class=\"sk-estimator sk-toggleable\"><input class=\"sk-toggleable__control sk-hidden--visually\" id=\"2c487b28-06aa-4756-99c5-37c5addf1edc\" type=\"checkbox\" ><label for=\"2c487b28-06aa-4756-99c5-37c5addf1edc\" class=\"sk-toggleable__label sk-toggleable__label-arrow\">StandardScaler</label><div class=\"sk-toggleable__content\"><pre>StandardScaler()</pre></div></div></div></div></div></div></div>"
      ],
      "text/plain": [
       "Pipeline(steps=[('standardscaler', StandardScaler())])"
      ]
     },
     "execution_count": 165,
     "metadata": {},
     "output_type": "execute_result"
    }
   ],
   "source": [
    "# Numeric pipeline\n",
    "numeric_pipe = make_pipeline(scaler)\n",
    "numeric_pipe"
   ]
  },
  {
   "cell_type": "code",
   "execution_count": 166,
   "id": "616adb21",
   "metadata": {},
   "outputs": [
    {
     "data": {
      "text/html": [
       "<style>#sk-45149723-a28f-48f1-b36e-507039b52a18 {color: black;background-color: white;}#sk-45149723-a28f-48f1-b36e-507039b52a18 pre{padding: 0;}#sk-45149723-a28f-48f1-b36e-507039b52a18 div.sk-toggleable {background-color: white;}#sk-45149723-a28f-48f1-b36e-507039b52a18 label.sk-toggleable__label {cursor: pointer;display: block;width: 100%;margin-bottom: 0;padding: 0.3em;box-sizing: border-box;text-align: center;}#sk-45149723-a28f-48f1-b36e-507039b52a18 label.sk-toggleable__label-arrow:before {content: \"▸\";float: left;margin-right: 0.25em;color: #696969;}#sk-45149723-a28f-48f1-b36e-507039b52a18 label.sk-toggleable__label-arrow:hover:before {color: black;}#sk-45149723-a28f-48f1-b36e-507039b52a18 div.sk-estimator:hover label.sk-toggleable__label-arrow:before {color: black;}#sk-45149723-a28f-48f1-b36e-507039b52a18 div.sk-toggleable__content {max-height: 0;max-width: 0;overflow: hidden;text-align: left;background-color: #f0f8ff;}#sk-45149723-a28f-48f1-b36e-507039b52a18 div.sk-toggleable__content pre {margin: 0.2em;color: black;border-radius: 0.25em;background-color: #f0f8ff;}#sk-45149723-a28f-48f1-b36e-507039b52a18 input.sk-toggleable__control:checked~div.sk-toggleable__content {max-height: 200px;max-width: 100%;overflow: auto;}#sk-45149723-a28f-48f1-b36e-507039b52a18 input.sk-toggleable__control:checked~label.sk-toggleable__label-arrow:before {content: \"▾\";}#sk-45149723-a28f-48f1-b36e-507039b52a18 div.sk-estimator input.sk-toggleable__control:checked~label.sk-toggleable__label {background-color: #d4ebff;}#sk-45149723-a28f-48f1-b36e-507039b52a18 div.sk-label input.sk-toggleable__control:checked~label.sk-toggleable__label {background-color: #d4ebff;}#sk-45149723-a28f-48f1-b36e-507039b52a18 input.sk-hidden--visually {border: 0;clip: rect(1px 1px 1px 1px);clip: rect(1px, 1px, 1px, 1px);height: 1px;margin: -1px;overflow: hidden;padding: 0;position: absolute;width: 1px;}#sk-45149723-a28f-48f1-b36e-507039b52a18 div.sk-estimator {font-family: monospace;background-color: #f0f8ff;border: 1px dotted black;border-radius: 0.25em;box-sizing: border-box;margin-bottom: 0.5em;}#sk-45149723-a28f-48f1-b36e-507039b52a18 div.sk-estimator:hover {background-color: #d4ebff;}#sk-45149723-a28f-48f1-b36e-507039b52a18 div.sk-parallel-item::after {content: \"\";width: 100%;border-bottom: 1px solid gray;flex-grow: 1;}#sk-45149723-a28f-48f1-b36e-507039b52a18 div.sk-label:hover label.sk-toggleable__label {background-color: #d4ebff;}#sk-45149723-a28f-48f1-b36e-507039b52a18 div.sk-serial::before {content: \"\";position: absolute;border-left: 1px solid gray;box-sizing: border-box;top: 2em;bottom: 0;left: 50%;}#sk-45149723-a28f-48f1-b36e-507039b52a18 div.sk-serial {display: flex;flex-direction: column;align-items: center;background-color: white;padding-right: 0.2em;padding-left: 0.2em;}#sk-45149723-a28f-48f1-b36e-507039b52a18 div.sk-item {z-index: 1;}#sk-45149723-a28f-48f1-b36e-507039b52a18 div.sk-parallel {display: flex;align-items: stretch;justify-content: center;background-color: white;}#sk-45149723-a28f-48f1-b36e-507039b52a18 div.sk-parallel::before {content: \"\";position: absolute;border-left: 1px solid gray;box-sizing: border-box;top: 2em;bottom: 0;left: 50%;}#sk-45149723-a28f-48f1-b36e-507039b52a18 div.sk-parallel-item {display: flex;flex-direction: column;position: relative;background-color: white;}#sk-45149723-a28f-48f1-b36e-507039b52a18 div.sk-parallel-item:first-child::after {align-self: flex-end;width: 50%;}#sk-45149723-a28f-48f1-b36e-507039b52a18 div.sk-parallel-item:last-child::after {align-self: flex-start;width: 50%;}#sk-45149723-a28f-48f1-b36e-507039b52a18 div.sk-parallel-item:only-child::after {width: 0;}#sk-45149723-a28f-48f1-b36e-507039b52a18 div.sk-dashed-wrapped {border: 1px dashed gray;margin: 0 0.4em 0.5em 0.4em;box-sizing: border-box;padding-bottom: 0.4em;background-color: white;position: relative;}#sk-45149723-a28f-48f1-b36e-507039b52a18 div.sk-label label {font-family: monospace;font-weight: bold;background-color: white;display: inline-block;line-height: 1.2em;}#sk-45149723-a28f-48f1-b36e-507039b52a18 div.sk-label-container {position: relative;z-index: 2;text-align: center;}#sk-45149723-a28f-48f1-b36e-507039b52a18 div.sk-container {/* jupyter's `normalize.less` sets `[hidden] { display: none; }` but bootstrap.min.css set `[hidden] { display: none !important; }` so we also need the `!important` here to be able to override the default hidden behavior on the sphinx rendered scikit-learn.org. See: https://github.com/scikit-learn/scikit-learn/issues/21755 */display: inline-block !important;position: relative;}#sk-45149723-a28f-48f1-b36e-507039b52a18 div.sk-text-repr-fallback {display: none;}</style><div id=\"sk-45149723-a28f-48f1-b36e-507039b52a18\" class=\"sk-top-container\"><div class=\"sk-text-repr-fallback\"><pre>Pipeline(steps=[(&#x27;onehotencoder&#x27;,\n",
       "                 OneHotEncoder(handle_unknown=&#x27;ignore&#x27;, sparse=False))])</pre><b>Please rerun this cell to show the HTML repr or trust the notebook.</b></div><div class=\"sk-container\" hidden><div class=\"sk-item sk-dashed-wrapped\"><div class=\"sk-label-container\"><div class=\"sk-label sk-toggleable\"><input class=\"sk-toggleable__control sk-hidden--visually\" id=\"b772e727-0a95-4b0d-b875-4625b740ee9f\" type=\"checkbox\" ><label for=\"b772e727-0a95-4b0d-b875-4625b740ee9f\" class=\"sk-toggleable__label sk-toggleable__label-arrow\">Pipeline</label><div class=\"sk-toggleable__content\"><pre>Pipeline(steps=[(&#x27;onehotencoder&#x27;,\n",
       "                 OneHotEncoder(handle_unknown=&#x27;ignore&#x27;, sparse=False))])</pre></div></div></div><div class=\"sk-serial\"><div class=\"sk-item\"><div class=\"sk-estimator sk-toggleable\"><input class=\"sk-toggleable__control sk-hidden--visually\" id=\"cce2af0a-93fc-4b04-a64e-f6ded4bb0f8b\" type=\"checkbox\" ><label for=\"cce2af0a-93fc-4b04-a64e-f6ded4bb0f8b\" class=\"sk-toggleable__label sk-toggleable__label-arrow\">OneHotEncoder</label><div class=\"sk-toggleable__content\"><pre>OneHotEncoder(handle_unknown=&#x27;ignore&#x27;, sparse=False)</pre></div></div></div></div></div></div></div>"
      ],
      "text/plain": [
       "Pipeline(steps=[('onehotencoder',\n",
       "                 OneHotEncoder(handle_unknown='ignore', sparse=False))])"
      ]
     },
     "execution_count": 166,
     "metadata": {},
     "output_type": "execute_result"
    }
   ],
   "source": [
    "# Categorical pipeline\n",
    "categorical_pipe = make_pipeline(ohe)\n",
    "categorical_pipe"
   ]
  },
  {
   "cell_type": "code",
   "execution_count": 167,
   "id": "1723162a",
   "metadata": {},
   "outputs": [
    {
     "data": {
      "text/html": [
       "<style>#sk-51953185-ac79-4207-a912-f90eb8d95649 {color: black;background-color: white;}#sk-51953185-ac79-4207-a912-f90eb8d95649 pre{padding: 0;}#sk-51953185-ac79-4207-a912-f90eb8d95649 div.sk-toggleable {background-color: white;}#sk-51953185-ac79-4207-a912-f90eb8d95649 label.sk-toggleable__label {cursor: pointer;display: block;width: 100%;margin-bottom: 0;padding: 0.3em;box-sizing: border-box;text-align: center;}#sk-51953185-ac79-4207-a912-f90eb8d95649 label.sk-toggleable__label-arrow:before {content: \"▸\";float: left;margin-right: 0.25em;color: #696969;}#sk-51953185-ac79-4207-a912-f90eb8d95649 label.sk-toggleable__label-arrow:hover:before {color: black;}#sk-51953185-ac79-4207-a912-f90eb8d95649 div.sk-estimator:hover label.sk-toggleable__label-arrow:before {color: black;}#sk-51953185-ac79-4207-a912-f90eb8d95649 div.sk-toggleable__content {max-height: 0;max-width: 0;overflow: hidden;text-align: left;background-color: #f0f8ff;}#sk-51953185-ac79-4207-a912-f90eb8d95649 div.sk-toggleable__content pre {margin: 0.2em;color: black;border-radius: 0.25em;background-color: #f0f8ff;}#sk-51953185-ac79-4207-a912-f90eb8d95649 input.sk-toggleable__control:checked~div.sk-toggleable__content {max-height: 200px;max-width: 100%;overflow: auto;}#sk-51953185-ac79-4207-a912-f90eb8d95649 input.sk-toggleable__control:checked~label.sk-toggleable__label-arrow:before {content: \"▾\";}#sk-51953185-ac79-4207-a912-f90eb8d95649 div.sk-estimator input.sk-toggleable__control:checked~label.sk-toggleable__label {background-color: #d4ebff;}#sk-51953185-ac79-4207-a912-f90eb8d95649 div.sk-label input.sk-toggleable__control:checked~label.sk-toggleable__label {background-color: #d4ebff;}#sk-51953185-ac79-4207-a912-f90eb8d95649 input.sk-hidden--visually {border: 0;clip: rect(1px 1px 1px 1px);clip: rect(1px, 1px, 1px, 1px);height: 1px;margin: -1px;overflow: hidden;padding: 0;position: absolute;width: 1px;}#sk-51953185-ac79-4207-a912-f90eb8d95649 div.sk-estimator {font-family: monospace;background-color: #f0f8ff;border: 1px dotted black;border-radius: 0.25em;box-sizing: border-box;margin-bottom: 0.5em;}#sk-51953185-ac79-4207-a912-f90eb8d95649 div.sk-estimator:hover {background-color: #d4ebff;}#sk-51953185-ac79-4207-a912-f90eb8d95649 div.sk-parallel-item::after {content: \"\";width: 100%;border-bottom: 1px solid gray;flex-grow: 1;}#sk-51953185-ac79-4207-a912-f90eb8d95649 div.sk-label:hover label.sk-toggleable__label {background-color: #d4ebff;}#sk-51953185-ac79-4207-a912-f90eb8d95649 div.sk-serial::before {content: \"\";position: absolute;border-left: 1px solid gray;box-sizing: border-box;top: 2em;bottom: 0;left: 50%;}#sk-51953185-ac79-4207-a912-f90eb8d95649 div.sk-serial {display: flex;flex-direction: column;align-items: center;background-color: white;padding-right: 0.2em;padding-left: 0.2em;}#sk-51953185-ac79-4207-a912-f90eb8d95649 div.sk-item {z-index: 1;}#sk-51953185-ac79-4207-a912-f90eb8d95649 div.sk-parallel {display: flex;align-items: stretch;justify-content: center;background-color: white;}#sk-51953185-ac79-4207-a912-f90eb8d95649 div.sk-parallel::before {content: \"\";position: absolute;border-left: 1px solid gray;box-sizing: border-box;top: 2em;bottom: 0;left: 50%;}#sk-51953185-ac79-4207-a912-f90eb8d95649 div.sk-parallel-item {display: flex;flex-direction: column;position: relative;background-color: white;}#sk-51953185-ac79-4207-a912-f90eb8d95649 div.sk-parallel-item:first-child::after {align-self: flex-end;width: 50%;}#sk-51953185-ac79-4207-a912-f90eb8d95649 div.sk-parallel-item:last-child::after {align-self: flex-start;width: 50%;}#sk-51953185-ac79-4207-a912-f90eb8d95649 div.sk-parallel-item:only-child::after {width: 0;}#sk-51953185-ac79-4207-a912-f90eb8d95649 div.sk-dashed-wrapped {border: 1px dashed gray;margin: 0 0.4em 0.5em 0.4em;box-sizing: border-box;padding-bottom: 0.4em;background-color: white;position: relative;}#sk-51953185-ac79-4207-a912-f90eb8d95649 div.sk-label label {font-family: monospace;font-weight: bold;background-color: white;display: inline-block;line-height: 1.2em;}#sk-51953185-ac79-4207-a912-f90eb8d95649 div.sk-label-container {position: relative;z-index: 2;text-align: center;}#sk-51953185-ac79-4207-a912-f90eb8d95649 div.sk-container {/* jupyter's `normalize.less` sets `[hidden] { display: none; }` but bootstrap.min.css set `[hidden] { display: none !important; }` so we also need the `!important` here to be able to override the default hidden behavior on the sphinx rendered scikit-learn.org. See: https://github.com/scikit-learn/scikit-learn/issues/21755 */display: inline-block !important;position: relative;}#sk-51953185-ac79-4207-a912-f90eb8d95649 div.sk-text-repr-fallback {display: none;}</style><div id=\"sk-51953185-ac79-4207-a912-f90eb8d95649\" class=\"sk-top-container\"><div class=\"sk-text-repr-fallback\"><pre>ColumnTransformer(transformers=[(&#x27;pipeline-1&#x27;,\n",
       "                                 Pipeline(steps=[(&#x27;standardscaler&#x27;,\n",
       "                                                  StandardScaler())]),\n",
       "                                 &lt;sklearn.compose._column_transformer.make_column_selector object at 0x7fce8071ed30&gt;),\n",
       "                                (&#x27;pipeline-2&#x27;,\n",
       "                                 Pipeline(steps=[(&#x27;onehotencoder&#x27;,\n",
       "                                                  OneHotEncoder(handle_unknown=&#x27;ignore&#x27;,\n",
       "                                                                sparse=False))]),\n",
       "                                 &lt;sklearn.compose._column_transformer.make_column_selector object at 0x7fce8071ebb0&gt;)])</pre><b>Please rerun this cell to show the HTML repr or trust the notebook.</b></div><div class=\"sk-container\" hidden><div class=\"sk-item sk-dashed-wrapped\"><div class=\"sk-label-container\"><div class=\"sk-label sk-toggleable\"><input class=\"sk-toggleable__control sk-hidden--visually\" id=\"44afed5c-f254-4a5c-b438-b74962af97e6\" type=\"checkbox\" ><label for=\"44afed5c-f254-4a5c-b438-b74962af97e6\" class=\"sk-toggleable__label sk-toggleable__label-arrow\">ColumnTransformer</label><div class=\"sk-toggleable__content\"><pre>ColumnTransformer(transformers=[(&#x27;pipeline-1&#x27;,\n",
       "                                 Pipeline(steps=[(&#x27;standardscaler&#x27;,\n",
       "                                                  StandardScaler())]),\n",
       "                                 &lt;sklearn.compose._column_transformer.make_column_selector object at 0x7fce8071ed30&gt;),\n",
       "                                (&#x27;pipeline-2&#x27;,\n",
       "                                 Pipeline(steps=[(&#x27;onehotencoder&#x27;,\n",
       "                                                  OneHotEncoder(handle_unknown=&#x27;ignore&#x27;,\n",
       "                                                                sparse=False))]),\n",
       "                                 &lt;sklearn.compose._column_transformer.make_column_selector object at 0x7fce8071ebb0&gt;)])</pre></div></div></div><div class=\"sk-parallel\"><div class=\"sk-parallel-item\"><div class=\"sk-item\"><div class=\"sk-label-container\"><div class=\"sk-label sk-toggleable\"><input class=\"sk-toggleable__control sk-hidden--visually\" id=\"0a8845e9-464e-4946-ac04-3404bcb8884b\" type=\"checkbox\" ><label for=\"0a8845e9-464e-4946-ac04-3404bcb8884b\" class=\"sk-toggleable__label sk-toggleable__label-arrow\">pipeline-1</label><div class=\"sk-toggleable__content\"><pre>&lt;sklearn.compose._column_transformer.make_column_selector object at 0x7fce8071ed30&gt;</pre></div></div></div><div class=\"sk-serial\"><div class=\"sk-item\"><div class=\"sk-serial\"><div class=\"sk-item\"><div class=\"sk-estimator sk-toggleable\"><input class=\"sk-toggleable__control sk-hidden--visually\" id=\"391dc787-ea0a-4042-9e45-dd9ebbc6194a\" type=\"checkbox\" ><label for=\"391dc787-ea0a-4042-9e45-dd9ebbc6194a\" class=\"sk-toggleable__label sk-toggleable__label-arrow\">StandardScaler</label><div class=\"sk-toggleable__content\"><pre>StandardScaler()</pre></div></div></div></div></div></div></div></div><div class=\"sk-parallel-item\"><div class=\"sk-item\"><div class=\"sk-label-container\"><div class=\"sk-label sk-toggleable\"><input class=\"sk-toggleable__control sk-hidden--visually\" id=\"59799967-11e5-497f-b971-ccf1ff463784\" type=\"checkbox\" ><label for=\"59799967-11e5-497f-b971-ccf1ff463784\" class=\"sk-toggleable__label sk-toggleable__label-arrow\">pipeline-2</label><div class=\"sk-toggleable__content\"><pre>&lt;sklearn.compose._column_transformer.make_column_selector object at 0x7fce8071ebb0&gt;</pre></div></div></div><div class=\"sk-serial\"><div class=\"sk-item\"><div class=\"sk-serial\"><div class=\"sk-item\"><div class=\"sk-estimator sk-toggleable\"><input class=\"sk-toggleable__control sk-hidden--visually\" id=\"232a6171-9fc7-45b3-ac49-ebaadca4f66a\" type=\"checkbox\" ><label for=\"232a6171-9fc7-45b3-ac49-ebaadca4f66a\" class=\"sk-toggleable__label sk-toggleable__label-arrow\">OneHotEncoder</label><div class=\"sk-toggleable__content\"><pre>OneHotEncoder(handle_unknown=&#x27;ignore&#x27;, sparse=False)</pre></div></div></div></div></div></div></div></div></div></div></div></div>"
      ],
      "text/plain": [
       "ColumnTransformer(transformers=[('pipeline-1',\n",
       "                                 Pipeline(steps=[('standardscaler',\n",
       "                                                  StandardScaler())]),\n",
       "                                 <sklearn.compose._column_transformer.make_column_selector object at 0x7fce8071ed30>),\n",
       "                                ('pipeline-2',\n",
       "                                 Pipeline(steps=[('onehotencoder',\n",
       "                                                  OneHotEncoder(handle_unknown='ignore',\n",
       "                                                                sparse=False))]),\n",
       "                                 <sklearn.compose._column_transformer.make_column_selector object at 0x7fce8071ebb0>)])"
      ]
     },
     "execution_count": 167,
     "metadata": {},
     "output_type": "execute_result"
    }
   ],
   "source": [
    "# Tuples para Column Transformer\n",
    "number_tuple = (numeric_pipe, num_selector)\n",
    "category_tuple = (categorical_pipe, cat_selector)\n",
    "\n",
    "# ColumnTransformer\n",
    "preprocessor = make_column_transformer(number_tuple, category_tuple)\n",
    "preprocessor\n"
   ]
  },
  {
   "cell_type": "code",
   "execution_count": 168,
   "id": "ed6a3449",
   "metadata": {},
   "outputs": [
    {
     "data": {
      "text/html": [
       "<style>#sk-66d090f2-f355-4d7c-812e-891b18c17f5f {color: black;background-color: white;}#sk-66d090f2-f355-4d7c-812e-891b18c17f5f pre{padding: 0;}#sk-66d090f2-f355-4d7c-812e-891b18c17f5f div.sk-toggleable {background-color: white;}#sk-66d090f2-f355-4d7c-812e-891b18c17f5f label.sk-toggleable__label {cursor: pointer;display: block;width: 100%;margin-bottom: 0;padding: 0.3em;box-sizing: border-box;text-align: center;}#sk-66d090f2-f355-4d7c-812e-891b18c17f5f label.sk-toggleable__label-arrow:before {content: \"▸\";float: left;margin-right: 0.25em;color: #696969;}#sk-66d090f2-f355-4d7c-812e-891b18c17f5f label.sk-toggleable__label-arrow:hover:before {color: black;}#sk-66d090f2-f355-4d7c-812e-891b18c17f5f div.sk-estimator:hover label.sk-toggleable__label-arrow:before {color: black;}#sk-66d090f2-f355-4d7c-812e-891b18c17f5f div.sk-toggleable__content {max-height: 0;max-width: 0;overflow: hidden;text-align: left;background-color: #f0f8ff;}#sk-66d090f2-f355-4d7c-812e-891b18c17f5f div.sk-toggleable__content pre {margin: 0.2em;color: black;border-radius: 0.25em;background-color: #f0f8ff;}#sk-66d090f2-f355-4d7c-812e-891b18c17f5f input.sk-toggleable__control:checked~div.sk-toggleable__content {max-height: 200px;max-width: 100%;overflow: auto;}#sk-66d090f2-f355-4d7c-812e-891b18c17f5f input.sk-toggleable__control:checked~label.sk-toggleable__label-arrow:before {content: \"▾\";}#sk-66d090f2-f355-4d7c-812e-891b18c17f5f div.sk-estimator input.sk-toggleable__control:checked~label.sk-toggleable__label {background-color: #d4ebff;}#sk-66d090f2-f355-4d7c-812e-891b18c17f5f div.sk-label input.sk-toggleable__control:checked~label.sk-toggleable__label {background-color: #d4ebff;}#sk-66d090f2-f355-4d7c-812e-891b18c17f5f input.sk-hidden--visually {border: 0;clip: rect(1px 1px 1px 1px);clip: rect(1px, 1px, 1px, 1px);height: 1px;margin: -1px;overflow: hidden;padding: 0;position: absolute;width: 1px;}#sk-66d090f2-f355-4d7c-812e-891b18c17f5f div.sk-estimator {font-family: monospace;background-color: #f0f8ff;border: 1px dotted black;border-radius: 0.25em;box-sizing: border-box;margin-bottom: 0.5em;}#sk-66d090f2-f355-4d7c-812e-891b18c17f5f div.sk-estimator:hover {background-color: #d4ebff;}#sk-66d090f2-f355-4d7c-812e-891b18c17f5f div.sk-parallel-item::after {content: \"\";width: 100%;border-bottom: 1px solid gray;flex-grow: 1;}#sk-66d090f2-f355-4d7c-812e-891b18c17f5f div.sk-label:hover label.sk-toggleable__label {background-color: #d4ebff;}#sk-66d090f2-f355-4d7c-812e-891b18c17f5f div.sk-serial::before {content: \"\";position: absolute;border-left: 1px solid gray;box-sizing: border-box;top: 2em;bottom: 0;left: 50%;}#sk-66d090f2-f355-4d7c-812e-891b18c17f5f div.sk-serial {display: flex;flex-direction: column;align-items: center;background-color: white;padding-right: 0.2em;padding-left: 0.2em;}#sk-66d090f2-f355-4d7c-812e-891b18c17f5f div.sk-item {z-index: 1;}#sk-66d090f2-f355-4d7c-812e-891b18c17f5f div.sk-parallel {display: flex;align-items: stretch;justify-content: center;background-color: white;}#sk-66d090f2-f355-4d7c-812e-891b18c17f5f div.sk-parallel::before {content: \"\";position: absolute;border-left: 1px solid gray;box-sizing: border-box;top: 2em;bottom: 0;left: 50%;}#sk-66d090f2-f355-4d7c-812e-891b18c17f5f div.sk-parallel-item {display: flex;flex-direction: column;position: relative;background-color: white;}#sk-66d090f2-f355-4d7c-812e-891b18c17f5f div.sk-parallel-item:first-child::after {align-self: flex-end;width: 50%;}#sk-66d090f2-f355-4d7c-812e-891b18c17f5f div.sk-parallel-item:last-child::after {align-self: flex-start;width: 50%;}#sk-66d090f2-f355-4d7c-812e-891b18c17f5f div.sk-parallel-item:only-child::after {width: 0;}#sk-66d090f2-f355-4d7c-812e-891b18c17f5f div.sk-dashed-wrapped {border: 1px dashed gray;margin: 0 0.4em 0.5em 0.4em;box-sizing: border-box;padding-bottom: 0.4em;background-color: white;position: relative;}#sk-66d090f2-f355-4d7c-812e-891b18c17f5f div.sk-label label {font-family: monospace;font-weight: bold;background-color: white;display: inline-block;line-height: 1.2em;}#sk-66d090f2-f355-4d7c-812e-891b18c17f5f div.sk-label-container {position: relative;z-index: 2;text-align: center;}#sk-66d090f2-f355-4d7c-812e-891b18c17f5f div.sk-container {/* jupyter's `normalize.less` sets `[hidden] { display: none; }` but bootstrap.min.css set `[hidden] { display: none !important; }` so we also need the `!important` here to be able to override the default hidden behavior on the sphinx rendered scikit-learn.org. See: https://github.com/scikit-learn/scikit-learn/issues/21755 */display: inline-block !important;position: relative;}#sk-66d090f2-f355-4d7c-812e-891b18c17f5f div.sk-text-repr-fallback {display: none;}</style><div id=\"sk-66d090f2-f355-4d7c-812e-891b18c17f5f\" class=\"sk-top-container\"><div class=\"sk-text-repr-fallback\"><pre>ColumnTransformer(transformers=[(&#x27;pipeline-1&#x27;,\n",
       "                                 Pipeline(steps=[(&#x27;standardscaler&#x27;,\n",
       "                                                  StandardScaler())]),\n",
       "                                 &lt;sklearn.compose._column_transformer.make_column_selector object at 0x7fce8071ed30&gt;),\n",
       "                                (&#x27;pipeline-2&#x27;,\n",
       "                                 Pipeline(steps=[(&#x27;onehotencoder&#x27;,\n",
       "                                                  OneHotEncoder(handle_unknown=&#x27;ignore&#x27;,\n",
       "                                                                sparse=False))]),\n",
       "                                 &lt;sklearn.compose._column_transformer.make_column_selector object at 0x7fce8071ebb0&gt;)])</pre><b>Please rerun this cell to show the HTML repr or trust the notebook.</b></div><div class=\"sk-container\" hidden><div class=\"sk-item sk-dashed-wrapped\"><div class=\"sk-label-container\"><div class=\"sk-label sk-toggleable\"><input class=\"sk-toggleable__control sk-hidden--visually\" id=\"0188d603-92b5-4bda-a552-bf375c4d6056\" type=\"checkbox\" ><label for=\"0188d603-92b5-4bda-a552-bf375c4d6056\" class=\"sk-toggleable__label sk-toggleable__label-arrow\">ColumnTransformer</label><div class=\"sk-toggleable__content\"><pre>ColumnTransformer(transformers=[(&#x27;pipeline-1&#x27;,\n",
       "                                 Pipeline(steps=[(&#x27;standardscaler&#x27;,\n",
       "                                                  StandardScaler())]),\n",
       "                                 &lt;sklearn.compose._column_transformer.make_column_selector object at 0x7fce8071ed30&gt;),\n",
       "                                (&#x27;pipeline-2&#x27;,\n",
       "                                 Pipeline(steps=[(&#x27;onehotencoder&#x27;,\n",
       "                                                  OneHotEncoder(handle_unknown=&#x27;ignore&#x27;,\n",
       "                                                                sparse=False))]),\n",
       "                                 &lt;sklearn.compose._column_transformer.make_column_selector object at 0x7fce8071ebb0&gt;)])</pre></div></div></div><div class=\"sk-parallel\"><div class=\"sk-parallel-item\"><div class=\"sk-item\"><div class=\"sk-label-container\"><div class=\"sk-label sk-toggleable\"><input class=\"sk-toggleable__control sk-hidden--visually\" id=\"0ae002b6-7bfc-40a2-845a-387f22dea563\" type=\"checkbox\" ><label for=\"0ae002b6-7bfc-40a2-845a-387f22dea563\" class=\"sk-toggleable__label sk-toggleable__label-arrow\">pipeline-1</label><div class=\"sk-toggleable__content\"><pre>&lt;sklearn.compose._column_transformer.make_column_selector object at 0x7fce8071ed30&gt;</pre></div></div></div><div class=\"sk-serial\"><div class=\"sk-item\"><div class=\"sk-serial\"><div class=\"sk-item\"><div class=\"sk-estimator sk-toggleable\"><input class=\"sk-toggleable__control sk-hidden--visually\" id=\"b0c2cd8c-37fb-4117-ab4b-db4d0f386cf0\" type=\"checkbox\" ><label for=\"b0c2cd8c-37fb-4117-ab4b-db4d0f386cf0\" class=\"sk-toggleable__label sk-toggleable__label-arrow\">StandardScaler</label><div class=\"sk-toggleable__content\"><pre>StandardScaler()</pre></div></div></div></div></div></div></div></div><div class=\"sk-parallel-item\"><div class=\"sk-item\"><div class=\"sk-label-container\"><div class=\"sk-label sk-toggleable\"><input class=\"sk-toggleable__control sk-hidden--visually\" id=\"95b0784b-94a7-4119-8d97-94f584a67c6b\" type=\"checkbox\" ><label for=\"95b0784b-94a7-4119-8d97-94f584a67c6b\" class=\"sk-toggleable__label sk-toggleable__label-arrow\">pipeline-2</label><div class=\"sk-toggleable__content\"><pre>&lt;sklearn.compose._column_transformer.make_column_selector object at 0x7fce8071ebb0&gt;</pre></div></div></div><div class=\"sk-serial\"><div class=\"sk-item\"><div class=\"sk-serial\"><div class=\"sk-item\"><div class=\"sk-estimator sk-toggleable\"><input class=\"sk-toggleable__control sk-hidden--visually\" id=\"4b645e68-2218-4369-928c-a1bda3479a30\" type=\"checkbox\" ><label for=\"4b645e68-2218-4369-928c-a1bda3479a30\" class=\"sk-toggleable__label sk-toggleable__label-arrow\">OneHotEncoder</label><div class=\"sk-toggleable__content\"><pre>OneHotEncoder(handle_unknown=&#x27;ignore&#x27;, sparse=False)</pre></div></div></div></div></div></div></div></div></div></div></div></div>"
      ],
      "text/plain": [
       "ColumnTransformer(transformers=[('pipeline-1',\n",
       "                                 Pipeline(steps=[('standardscaler',\n",
       "                                                  StandardScaler())]),\n",
       "                                 <sklearn.compose._column_transformer.make_column_selector object at 0x7fce8071ed30>),\n",
       "                                ('pipeline-2',\n",
       "                                 Pipeline(steps=[('onehotencoder',\n",
       "                                                  OneHotEncoder(handle_unknown='ignore',\n",
       "                                                                sparse=False))]),\n",
       "                                 <sklearn.compose._column_transformer.make_column_selector object at 0x7fce8071ebb0>)])"
      ]
     },
     "execution_count": 168,
     "metadata": {},
     "output_type": "execute_result"
    }
   ],
   "source": [
    "# fit on train\n",
    "preprocessor.fit(X)"
   ]
  },
  {
   "cell_type": "code",
   "execution_count": 169,
   "id": "c2091c22",
   "metadata": {},
   "outputs": [],
   "source": [
    "# transform train and test\n",
    "X_ = preprocessor.transform(X)"
   ]
  },
  {
   "cell_type": "code",
   "execution_count": 170,
   "id": "19fc4d08",
   "metadata": {},
   "outputs": [
    {
     "data": {
      "text/plain": [
       "array([[-0.36793302, -1.59369418, -0.40408626, ...,  0.        ,\n",
       "         1.        ,  0.        ],\n",
       "       [ 1.51288266, -0.43956693, -0.31932329, ...,  0.        ,\n",
       "         0.        ,  1.        ],\n",
       "       [ 0.77670618,  1.21635478,  0.7825953 , ...,  0.        ,\n",
       "         0.        ,  1.        ],\n",
       "       ...,\n",
       "       [ 0.31250515,  1.26653423,  0.95212124, ...,  0.        ,\n",
       "         1.        ,  0.        ],\n",
       "       [-1.17628845, -0.38938748,  0.27401749, ...,  0.        ,\n",
       "         1.        ,  0.        ],\n",
       "       [-1.65778491,  1.46725201,  1.0368842 , ...,  0.        ,\n",
       "         1.        ,  0.        ]])"
      ]
     },
     "execution_count": 170,
     "metadata": {},
     "output_type": "execute_result"
    }
   ],
   "source": [
    "X_"
   ]
  },
  {
   "cell_type": "code",
   "execution_count": 171,
   "id": "c9e62043",
   "metadata": {},
   "outputs": [
    {
     "name": "stdout",
     "output_type": "stream",
     "text": [
      "0 missing values in training data\n",
      "\n",
      "\n",
      "All data in X_test_processed are float64\n",
      "\n",
      "\n",
      "shape of data is (20000, 41)\n",
      "\n",
      "\n"
     ]
    },
    {
     "data": {
      "text/plain": [
       "array([[-0.36793302, -1.59369418, -0.40408626, ...,  0.        ,\n",
       "         1.        ,  0.        ],\n",
       "       [ 1.51288266, -0.43956693, -0.31932329, ...,  0.        ,\n",
       "         0.        ,  1.        ],\n",
       "       [ 0.77670618,  1.21635478,  0.7825953 , ...,  0.        ,\n",
       "         0.        ,  1.        ],\n",
       "       ...,\n",
       "       [ 0.31250515,  1.26653423,  0.95212124, ...,  0.        ,\n",
       "         1.        ,  0.        ],\n",
       "       [-1.17628845, -0.38938748,  0.27401749, ...,  0.        ,\n",
       "         1.        ,  0.        ],\n",
       "       [-1.65778491,  1.46725201,  1.0368842 , ...,  0.        ,\n",
       "         1.        ,  0.        ]])"
      ]
     },
     "execution_count": 171,
     "metadata": {},
     "output_type": "execute_result"
    }
   ],
   "source": [
    "print(np.isnan(X_).sum().sum(),'missing values in training data')\n",
    "print('\\n')\n",
    "print('All data in X_test_processed are', X_.dtype)\n",
    "print('\\n')\n",
    "print('shape of data is', X_.shape)\n",
    "print('\\n')\n",
    "X_"
   ]
  },
  {
   "cell_type": "code",
   "execution_count": 181,
   "id": "4e922b1c",
   "metadata": {},
   "outputs": [
    {
     "name": "stdout",
     "output_type": "stream",
     "text": [
      "625/625 [==============================] - 1s 2ms/step\n"
     ]
    },
    {
     "data": {
      "text/plain": [
       "array([[0.3249],\n",
       "       [1.    ],\n",
       "       [0.9951],\n",
       "       ...,\n",
       "       [0.    ],\n",
       "       [0.3271],\n",
       "       [0.    ]], dtype=float32)"
      ]
     },
     "execution_count": 181,
     "metadata": {},
     "output_type": "execute_result"
    }
   ],
   "source": [
    "preds = model.predict(X_)\n",
    "preds = preds.round(4)\n",
    "preds"
   ]
  },
  {
   "cell_type": "code",
   "execution_count": 173,
   "id": "0b54bd35",
   "metadata": {},
   "outputs": [
    {
     "data": {
      "text/plain": [
       "0        122428\n",
       "1        291855\n",
       "2        225539\n",
       "3          1410\n",
       "4        256048\n",
       "          ...  \n",
       "19995     62773\n",
       "19996      3763\n",
       "19997    183723\n",
       "19998     49610\n",
       "19999      6236\n",
       "Name: uid, Length: 20000, dtype: int64"
      ]
     },
     "execution_count": 173,
     "metadata": {},
     "output_type": "execute_result"
    }
   ],
   "source": [
    " X['uid']"
   ]
  },
  {
   "cell_type": "code",
   "execution_count": 182,
   "id": "17df6397",
   "metadata": {},
   "outputs": [
    {
     "name": "stdout",
     "output_type": "stream",
     "text": [
      "[[0.3249]\n",
      " [1.    ]\n",
      " [0.9951]\n",
      " ...\n",
      " [0.    ]\n",
      " [0.3271]\n",
      " [0.    ]]\n"
     ]
    }
   ],
   "source": [
    "print(preds)"
   ]
  },
  {
   "cell_type": "code",
   "execution_count": 183,
   "id": "221bc609",
   "metadata": {
    "scrolled": true
   },
   "outputs": [],
   "source": [
    "preds2 = preds[:,0]"
   ]
  },
  {
   "cell_type": "code",
   "execution_count": 184,
   "id": "db81f904",
   "metadata": {},
   "outputs": [
    {
     "data": {
      "text/plain": [
       "(20000,)"
      ]
     },
     "execution_count": 184,
     "metadata": {},
     "output_type": "execute_result"
    }
   ],
   "source": [
    "X['uid'].shape"
   ]
  },
  {
   "cell_type": "markdown",
   "id": "4de4127e",
   "metadata": {},
   "source": [
    "## Evaluamos el modelo con los datos de prueba con los datos desconocidos"
   ]
  },
  {
   "cell_type": "code",
   "execution_count": 185,
   "id": "174db7f7",
   "metadata": {},
   "outputs": [],
   "source": [
    "results = pd.DataFrame({'uid': X['uid'],\"is_strike\":preds2})"
   ]
  },
  {
   "cell_type": "code",
   "execution_count": 186,
   "id": "e40d06f6",
   "metadata": {},
   "outputs": [
    {
     "data": {
      "text/html": [
       "<div>\n",
       "<style scoped>\n",
       "    .dataframe tbody tr th:only-of-type {\n",
       "        vertical-align: middle;\n",
       "    }\n",
       "\n",
       "    .dataframe tbody tr th {\n",
       "        vertical-align: top;\n",
       "    }\n",
       "\n",
       "    .dataframe thead th {\n",
       "        text-align: right;\n",
       "    }\n",
       "</style>\n",
       "<table border=\"1\" class=\"dataframe\">\n",
       "  <thead>\n",
       "    <tr style=\"text-align: right;\">\n",
       "      <th></th>\n",
       "      <th>uid</th>\n",
       "      <th>is_strike</th>\n",
       "    </tr>\n",
       "  </thead>\n",
       "  <tbody>\n",
       "    <tr>\n",
       "      <th>0</th>\n",
       "      <td>122428</td>\n",
       "      <td>0.3249</td>\n",
       "    </tr>\n",
       "    <tr>\n",
       "      <th>1</th>\n",
       "      <td>291855</td>\n",
       "      <td>1.0000</td>\n",
       "    </tr>\n",
       "    <tr>\n",
       "      <th>2</th>\n",
       "      <td>225539</td>\n",
       "      <td>0.9951</td>\n",
       "    </tr>\n",
       "    <tr>\n",
       "      <th>3</th>\n",
       "      <td>1410</td>\n",
       "      <td>0.0008</td>\n",
       "    </tr>\n",
       "    <tr>\n",
       "      <th>4</th>\n",
       "      <td>256048</td>\n",
       "      <td>1.0000</td>\n",
       "    </tr>\n",
       "    <tr>\n",
       "      <th>5</th>\n",
       "      <td>192282</td>\n",
       "      <td>0.0000</td>\n",
       "    </tr>\n",
       "    <tr>\n",
       "      <th>6</th>\n",
       "      <td>157268</td>\n",
       "      <td>0.0175</td>\n",
       "    </tr>\n",
       "    <tr>\n",
       "      <th>7</th>\n",
       "      <td>56958</td>\n",
       "      <td>0.0000</td>\n",
       "    </tr>\n",
       "    <tr>\n",
       "      <th>8</th>\n",
       "      <td>211402</td>\n",
       "      <td>0.8236</td>\n",
       "    </tr>\n",
       "    <tr>\n",
       "      <th>9</th>\n",
       "      <td>84564</td>\n",
       "      <td>0.0000</td>\n",
       "    </tr>\n",
       "    <tr>\n",
       "      <th>10</th>\n",
       "      <td>115575</td>\n",
       "      <td>0.9391</td>\n",
       "    </tr>\n",
       "    <tr>\n",
       "      <th>11</th>\n",
       "      <td>13562</td>\n",
       "      <td>0.0000</td>\n",
       "    </tr>\n",
       "    <tr>\n",
       "      <th>12</th>\n",
       "      <td>174089</td>\n",
       "      <td>0.6850</td>\n",
       "    </tr>\n",
       "    <tr>\n",
       "      <th>13</th>\n",
       "      <td>67863</td>\n",
       "      <td>0.2731</td>\n",
       "    </tr>\n",
       "    <tr>\n",
       "      <th>14</th>\n",
       "      <td>284661</td>\n",
       "      <td>0.0000</td>\n",
       "    </tr>\n",
       "    <tr>\n",
       "      <th>15</th>\n",
       "      <td>132379</td>\n",
       "      <td>0.7690</td>\n",
       "    </tr>\n",
       "    <tr>\n",
       "      <th>16</th>\n",
       "      <td>270116</td>\n",
       "      <td>0.0000</td>\n",
       "    </tr>\n",
       "    <tr>\n",
       "      <th>17</th>\n",
       "      <td>261810</td>\n",
       "      <td>0.9621</td>\n",
       "    </tr>\n",
       "    <tr>\n",
       "      <th>18</th>\n",
       "      <td>187570</td>\n",
       "      <td>0.9929</td>\n",
       "    </tr>\n",
       "    <tr>\n",
       "      <th>19</th>\n",
       "      <td>72856</td>\n",
       "      <td>0.9211</td>\n",
       "    </tr>\n",
       "    <tr>\n",
       "      <th>20</th>\n",
       "      <td>67639</td>\n",
       "      <td>0.0019</td>\n",
       "    </tr>\n",
       "    <tr>\n",
       "      <th>21</th>\n",
       "      <td>57095</td>\n",
       "      <td>0.8032</td>\n",
       "    </tr>\n",
       "    <tr>\n",
       "      <th>22</th>\n",
       "      <td>127490</td>\n",
       "      <td>0.9173</td>\n",
       "    </tr>\n",
       "    <tr>\n",
       "      <th>23</th>\n",
       "      <td>164259</td>\n",
       "      <td>0.8004</td>\n",
       "    </tr>\n",
       "    <tr>\n",
       "      <th>24</th>\n",
       "      <td>169748</td>\n",
       "      <td>0.0000</td>\n",
       "    </tr>\n",
       "    <tr>\n",
       "      <th>25</th>\n",
       "      <td>226396</td>\n",
       "      <td>0.0001</td>\n",
       "    </tr>\n",
       "    <tr>\n",
       "      <th>26</th>\n",
       "      <td>185449</td>\n",
       "      <td>0.0000</td>\n",
       "    </tr>\n",
       "    <tr>\n",
       "      <th>27</th>\n",
       "      <td>306263</td>\n",
       "      <td>1.0000</td>\n",
       "    </tr>\n",
       "    <tr>\n",
       "      <th>28</th>\n",
       "      <td>274817</td>\n",
       "      <td>0.0000</td>\n",
       "    </tr>\n",
       "    <tr>\n",
       "      <th>29</th>\n",
       "      <td>33552</td>\n",
       "      <td>0.0000</td>\n",
       "    </tr>\n",
       "    <tr>\n",
       "      <th>30</th>\n",
       "      <td>86614</td>\n",
       "      <td>0.0000</td>\n",
       "    </tr>\n",
       "    <tr>\n",
       "      <th>31</th>\n",
       "      <td>109749</td>\n",
       "      <td>0.9997</td>\n",
       "    </tr>\n",
       "    <tr>\n",
       "      <th>32</th>\n",
       "      <td>201283</td>\n",
       "      <td>0.0000</td>\n",
       "    </tr>\n",
       "    <tr>\n",
       "      <th>33</th>\n",
       "      <td>125498</td>\n",
       "      <td>0.9951</td>\n",
       "    </tr>\n",
       "    <tr>\n",
       "      <th>34</th>\n",
       "      <td>215167</td>\n",
       "      <td>0.0003</td>\n",
       "    </tr>\n",
       "  </tbody>\n",
       "</table>\n",
       "</div>"
      ],
      "text/plain": [
       "       uid  is_strike\n",
       "0   122428     0.3249\n",
       "1   291855     1.0000\n",
       "2   225539     0.9951\n",
       "3     1410     0.0008\n",
       "4   256048     1.0000\n",
       "5   192282     0.0000\n",
       "6   157268     0.0175\n",
       "7    56958     0.0000\n",
       "8   211402     0.8236\n",
       "9    84564     0.0000\n",
       "10  115575     0.9391\n",
       "11   13562     0.0000\n",
       "12  174089     0.6850\n",
       "13   67863     0.2731\n",
       "14  284661     0.0000\n",
       "15  132379     0.7690\n",
       "16  270116     0.0000\n",
       "17  261810     0.9621\n",
       "18  187570     0.9929\n",
       "19   72856     0.9211\n",
       "20   67639     0.0019\n",
       "21   57095     0.8032\n",
       "22  127490     0.9173\n",
       "23  164259     0.8004\n",
       "24  169748     0.0000\n",
       "25  226396     0.0001\n",
       "26  185449     0.0000\n",
       "27  306263     1.0000\n",
       "28  274817     0.0000\n",
       "29   33552     0.0000\n",
       "30   86614     0.0000\n",
       "31  109749     0.9997\n",
       "32  201283     0.0000\n",
       "33  125498     0.9951\n",
       "34  215167     0.0003"
      ]
     },
     "execution_count": 186,
     "metadata": {},
     "output_type": "execute_result"
    }
   ],
   "source": [
    "results.head(35)"
   ]
  },
  {
   "cell_type": "code",
   "execution_count": 187,
   "id": "dffd5af1",
   "metadata": {},
   "outputs": [
    {
     "data": {
      "text/plain": [
       "0.0000    5998\n",
       "0.9951    1156\n",
       "0.0001     621\n",
       "1.0000     597\n",
       "0.0002     319\n",
       "          ... \n",
       "0.9223       1\n",
       "0.6898       1\n",
       "0.6502       1\n",
       "0.9121       1\n",
       "0.3131       1\n",
       "Name: is_strike, Length: 5036, dtype: int64"
      ]
     },
     "execution_count": 187,
     "metadata": {},
     "output_type": "execute_result"
    }
   ],
   "source": [
    "results['is_strike'].value_counts()"
   ]
  },
  {
   "cell_type": "code",
   "execution_count": 188,
   "id": "b1fc7181",
   "metadata": {},
   "outputs": [],
   "source": [
    "results.to_csv('Predictions.csv',index = False)"
   ]
  },
  {
   "cell_type": "markdown",
   "id": "61bd8c65",
   "metadata": {},
   "source": [
    "# El modelo de Kaggle\n",
    "\n",
    "Las predicciones dan super bien con xgboost le va mejor que redes neuronales, el modelo se equivoca 63 en no strikes.\n",
    "\n",
    "Y 63 que son strikes.\n",
    "\n",
    "Con Deep Learning fue:\n",
    "\n",
    "\n",
    "Del Test \n",
    "0:    13417\n",
    "1:     6583\n",
    "\n",
    "Predijo \n",
    "0:    13999\n",
    "1:     6001\n"
   ]
  }
 ],
 "metadata": {
  "kernelspec": {
   "display_name": "Python 3 (ipykernel)",
   "language": "python",
   "name": "python3"
  },
  "language_info": {
   "codemirror_mode": {
    "name": "ipython",
    "version": 3
   },
   "file_extension": ".py",
   "mimetype": "text/x-python",
   "name": "python",
   "nbconvert_exporter": "python",
   "pygments_lexer": "ipython3",
   "version": "3.9.12"
  }
 },
 "nbformat": 4,
 "nbformat_minor": 5
}
